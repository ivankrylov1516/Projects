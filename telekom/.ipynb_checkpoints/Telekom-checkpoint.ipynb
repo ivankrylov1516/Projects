{
 "cells": [
  {
   "cell_type": "markdown",
   "metadata": {},
   "source": [
    "## Данные\n",
    "В наличии были следующие данные:\n",
    "- информация о пользователях\n",
    "- информация о звонках\n",
    "- информация о сообщениях\n",
    "- информация об интернет-сессиях\n",
    "- информация о тарифах\n",
    "- данные о поведении клиентов, перешедших на новые тарифы\n",
    "\n",
    "## Задача\n",
    "\n",
    "На основе данных клиентов оператора сотовой связи проанализировать поведение клиентов. Построить модель для поиска оптимального тарифа. Достигнуть значения accuracy не менее, чем 0.75.\n",
    "\n",
    "## План работы\n",
    "### 1. Изучение общей информации о данных\n",
    "Проверка данных на наличие пропусков, проверка формата данных.\n",
    "### 2. Предобработка данных\n",
    "Обработка пропущенных и нулевых значений. Приведение данных к верному формату. Создание сводных таблиц, необходимых для дальнейшего анализа.\n",
    "### 3. Анализ данных\n",
    "Изучение поведения пользователей двух тарифов smart и ультра. Построение распределения данных. Расчёт основных статистик (медианы, среднего, дисперсии).\n",
    "### 4. Проверка гипотез\n",
    "Проверка гипотезы о различии выручки абонентов разных тарифов и о различии выручки абонентов из Москвы и других регионов. Определение выгодного тарифного плана.\n",
    "### 5. Подготовка данных для машинного обучения\n",
    "Подготовка датасета для машинного обучения. Разбиение данных на выборки.\n",
    "### 6. Подбор оптимальной модели\n",
    "Перебор гиперпараметров моделей DecisionTreeRegressor, RandomForestRegressor, LogisticRegression с использованием кросс-валидации.\n",
    "### 7. Тестирование модели\n",
    "Проверка оптимальной модели на тестовой выборке. Проверка модели на адекватность.\n"
   ]
  },
  {
   "cell_type": "markdown",
   "metadata": {},
   "source": []
  },
  {
   "cell_type": "markdown",
   "metadata": {},
   "source": [
    "## 1. Изучение общей информации о данных"
   ]
  },
  {
   "cell_type": "code",
   "execution_count": 1,
   "metadata": {},
   "outputs": [
    {
     "name": "stdout",
     "output_type": "stream",
     "text": [
      "       id   call_date  duration  user_id\n",
      "0  1000_0  2018-07-25      0.00     1000\n",
      "1  1000_1  2018-08-17      0.00     1000\n",
      "2  1000_2  2018-06-11      2.85     1000\n",
      "3  1000_3  2018-09-21     13.80     1000\n",
      "4  1000_4  2018-12-15      5.18     1000\n",
      "\n",
      "<class 'pandas.core.frame.DataFrame'>\n",
      "RangeIndex: 202607 entries, 0 to 202606\n",
      "Data columns (total 4 columns):\n",
      " #   Column     Non-Null Count   Dtype  \n",
      "---  ------     --------------   -----  \n",
      " 0   id         202607 non-null  object \n",
      " 1   call_date  202607 non-null  object \n",
      " 2   duration   202607 non-null  float64\n",
      " 3   user_id    202607 non-null  int64  \n",
      "dtypes: float64(1), int64(1), object(2)\n",
      "memory usage: 6.2+ MB\n",
      "None\n",
      "\n",
      "Звонков длительностью 0 минут 19.55%\n"
     ]
    },
    {
     "data": {
      "image/png": "[encoded data removed]",
      "text/plain": [
       "<Figure size 720x288 with 1 Axes>"
      ]
     },
     "metadata": {
      "needs_background": "light"
     },
     "output_type": "display_data"
    }
   ],
   "source": [
    "import pandas as pd\n",
    "import numpy as np\n",
    "import matplotlib.pyplot as plt\n",
    "from scipy import stats as st\n",
    "data_calls = pd.read_csv(\"../Telekom/calls.csv\") #данные по звонкам\n",
    "print(data_calls.head(5))\n",
    "print()\n",
    "print(data_calls.info())\n",
    "print()\n",
    "\n",
    "data_calls['duration'].hist(bins=100, figsize = (10,4))\n",
    "plt.title('Распределение звонков по длительности')\n",
    "plt.ylabel('Количество звонков')\n",
    "plt.xlabel('Длительность звонков')\n",
    "print('Звонков длительностью 0 минут {:.2%}'.format(len(data_calls.query('duration==0'))/len(data_calls)))"
   ]
  },
  {
   "cell_type": "markdown",
   "metadata": {},
   "source": [
    "Загрузим и проанализируем данные. Пропуски в таблице calls отсутствуют. Гистограмма распределения длительности звонков показывает большое количество нулевых значений. Всего таких данных около 20%, это слишком много для того, чтобы их удалить."
   ]
  },
  {
   "cell_type": "code",
   "execution_count": 2,
   "metadata": {},
   "outputs": [
    {
     "name": "stdout",
     "output_type": "stream",
     "text": [
      "   Unnamed: 0      id  mb_used session_date  user_id\n",
      "0           0  1000_0   112.95   2018-11-25     1000\n",
      "1           1  1000_1  1052.81   2018-09-07     1000\n",
      "2           2  1000_2  1197.26   2018-06-25     1000\n",
      "3           3  1000_3   550.27   2018-08-22     1000\n",
      "4           4  1000_4   302.56   2018-09-24     1000\n",
      "\n",
      "<class 'pandas.core.frame.DataFrame'>\n",
      "RangeIndex: 149396 entries, 0 to 149395\n",
      "Data columns (total 5 columns):\n",
      " #   Column        Non-Null Count   Dtype  \n",
      "---  ------        --------------   -----  \n",
      " 0   Unnamed: 0    149396 non-null  int64  \n",
      " 1   id            149396 non-null  object \n",
      " 2   mb_used       149396 non-null  float64\n",
      " 3   session_date  149396 non-null  object \n",
      " 4   user_id       149396 non-null  int64  \n",
      "dtypes: float64(1), int64(2), object(2)\n",
      "memory usage: 5.7+ MB\n",
      "None\n",
      "\n",
      "0.13118155773916304\n"
     ]
    },
    {
     "data": {
      "image/png": "[encoded data removed]",
      "text/plain": [
       "<Figure size 720x288 with 1 Axes>"
      ]
     },
     "metadata": {
      "needs_background": "light"
     },
     "output_type": "display_data"
    }
   ],
   "source": [
    "data_internet = pd.read_csv('../Telekom/internet.csv') #данные по интернету\n",
    "print(data_internet.head(5))\n",
    "print()\n",
    "print(data_internet.info())\n",
    "print()\n",
    "data_internet['mb_used'].hist(bins=100, figsize=(10,4))\n",
    "plt.title('Распределение трафика')\n",
    "plt.ylabel('Количество сессий')\n",
    "plt.xlabel('Количество потраченных мегабайт')\n",
    "print(len(data_internet.query('mb_used==0'))/len(data_internet))"
   ]
  },
  {
   "cell_type": "markdown",
   "metadata": {},
   "source": [
    "Пропуски в таблице internet отсутствуют, однако гистограмма распределения трафика также показывает большое количество нулевых значений. Всего таких данных 13%, слишком много для того, чтобы их отбросить."
   ]
  },
  {
   "cell_type": "code",
   "execution_count": 3,
   "metadata": {},
   "outputs": [
    {
     "name": "stdout",
     "output_type": "stream",
     "text": [
      "       id message_date  user_id\n",
      "0  1000_0   2018-06-27     1000\n",
      "1  1000_1   2018-10-08     1000\n",
      "2  1000_2   2018-08-04     1000\n",
      "3  1000_3   2018-06-16     1000\n",
      "4  1000_4   2018-12-05     1000\n",
      "\n",
      "<class 'pandas.core.frame.DataFrame'>\n",
      "RangeIndex: 123036 entries, 0 to 123035\n",
      "Data columns (total 3 columns):\n",
      " #   Column        Non-Null Count   Dtype \n",
      "---  ------        --------------   ----- \n",
      " 0   id            123036 non-null  object\n",
      " 1   message_date  123036 non-null  object\n",
      " 2   user_id       123036 non-null  int64 \n",
      "dtypes: int64(1), object(2)\n",
      "memory usage: 2.8+ MB\n",
      "None\n"
     ]
    }
   ],
   "source": [
    "data_sms = pd.read_csv('../Telekom/messages.csv') #данные по смс\n",
    "print(data_sms.head(5))\n",
    "print()\n",
    "print(data_sms.info())"
   ]
  },
  {
   "cell_type": "code",
   "execution_count": 4,
   "metadata": {},
   "outputs": [
    {
     "name": "stdout",
     "output_type": "stream",
     "text": [
      "   messages_included  mb_per_month_included  minutes_included  \\\n",
      "0                 50                  15360               500   \n",
      "1               1000                  30720              3000   \n",
      "\n",
      "   rub_monthly_fee  rub_per_gb  rub_per_message  rub_per_minute tariff_name  \n",
      "0              550         200                3               3       smart  \n",
      "1             1950         150                1               1       ultra  \n"
     ]
    }
   ],
   "source": [
    "data_tariff = pd.read_csv('../Telekom/tariffs.csv') #таблица с условиями тарифов\n",
    "print(data_tariff)"
   ]
  },
  {
   "cell_type": "code",
   "execution_count": 5,
   "metadata": {},
   "outputs": [
    {
     "name": "stdout",
     "output_type": "stream",
     "text": [
      "   user_id  age churn_date         city first_name  last_name    reg_date  \\\n",
      "0     1000   52        NaN    Краснодар     Рафаил  Верещагин  2018-05-25   \n",
      "1     1001   41        NaN       Москва       Иван       Ежов  2018-11-01   \n",
      "2     1002   59        NaN  Стерлитамак    Евгений  Абрамович  2018-06-17   \n",
      "3     1003   23        NaN       Москва      Белла   Белякова  2018-08-17   \n",
      "4     1004   68        NaN  Новокузнецк    Татьяна   Авдеенко  2018-05-14   \n",
      "\n",
      "  tariff  \n",
      "0  ultra  \n",
      "1  smart  \n",
      "2  smart  \n",
      "3  ultra  \n",
      "4  ultra  \n",
      "\n",
      "<class 'pandas.core.frame.DataFrame'>\n",
      "RangeIndex: 500 entries, 0 to 499\n",
      "Data columns (total 8 columns):\n",
      " #   Column      Non-Null Count  Dtype \n",
      "---  ------      --------------  ----- \n",
      " 0   user_id     500 non-null    int64 \n",
      " 1   age         500 non-null    int64 \n",
      " 2   churn_date  38 non-null     object\n",
      " 3   city        500 non-null    object\n",
      " 4   first_name  500 non-null    object\n",
      " 5   last_name   500 non-null    object\n",
      " 6   reg_date    500 non-null    object\n",
      " 7   tariff      500 non-null    object\n",
      "dtypes: int64(2), object(6)\n",
      "memory usage: 31.4+ KB\n",
      "None\n"
     ]
    }
   ],
   "source": [
    "data = pd.read_csv('../Telekom/users.csv') #данные по пользователям\n",
    "print(data.head(5))\n",
    "print()\n",
    "print(data.info())"
   ]
  },
  {
   "cell_type": "markdown",
   "metadata": {},
   "source": [
    "В остальных таблицах пропуски в данных также отсутствуют, за исключением столбца \"churn_date\" в таблице users. "
   ]
  },
  {
   "cell_type": "markdown",
   "metadata": {},
   "source": [
    "### Вывод"
   ]
  },
  {
   "cell_type": "markdown",
   "metadata": {},
   "source": [
    "В данных присутствует большое количество нулевых значений, которые представляется нецелесообразным отбрасывать. Кроме того, столбцы с датой во всех таблицах неверного формата."
   ]
  },
  {
   "cell_type": "markdown",
   "metadata": {},
   "source": [
    "## 2. Предобработка данных"
   ]
  },
  {
   "cell_type": "code",
   "execution_count": 6,
   "metadata": {},
   "outputs": [
    {
     "name": "stdout",
     "output_type": "stream",
     "text": [
      "month    1    2    3    4    5    6    7    8    9     10   11    12\n",
      "user_id                                                             \n",
      "1000      0    0    0    0  164  187  346  418  478   363  344   341\n",
      "1001      0    0    0    0    0    0    0    0    0     0  444   430\n",
      "1002      0    0    0    0    0  118  219  294  217   221  250   242\n",
      "1003      0    0    0    0    0    0    0  392  990   866  844   822\n",
      "1004      0    0    0    0   37  177  137  138  125   153  121   136\n",
      "...      ..  ...  ...  ...  ...  ...  ...  ...  ...   ...  ...   ...\n",
      "1495      0    0    0    0    0    0    0   96  830  1056  971  1066\n",
      "1496     49  606  569  536  497  572  592  553  496   466  676   533\n",
      "1497      0    0    0    0    0    0    0    0    0   506  387   558\n",
      "1498      0    0    0    0    0    0  178  414  477   258    0     0\n",
      "1499      0    0    0    0    0    0    0    0   71   473  624   505\n",
      "\n",
      "[492 rows x 12 columns]\n",
      "\n",
      "month    1   2   3   4   5   6   7   8    9    10   11   12\n",
      "user_id                                                    \n",
      "1000      0   0   0   0  22  43  47  52   58   57   43   46\n",
      "1001      0   0   0   0   0   0   0   0    0    0   59   63\n",
      "1002      0   0   0   0   0  15  26  42   36   33   32   33\n",
      "1003      0   0   0   0   0   0   0  55  134  108  115  108\n",
      "1004      0   0   0   0   9  31  22  19   26   29   19   21\n",
      "...      ..  ..  ..  ..  ..  ..  ..  ..  ...  ...  ...  ...\n",
      "1495      0   0   0   0   0   0   0  17  112  152  129  155\n",
      "1496      7  77  79  67  63  74  73  88   68   72   80   80\n",
      "1497      0   0   0   0   0   0   0   0    0   66   64   71\n",
      "1498      0   0   0   0   0   0  23  57   59   41    0    0\n",
      "1499      0   0   0   0   0   0   0   0    9   68   74   69\n",
      "\n",
      "[492 rows x 12 columns]\n"
     ]
    }
   ],
   "source": [
    "data_calls['duration'] = data_calls['duration'].replace(0,0.01).apply(np.ceil) \n",
    "data_calls['call_date'] = pd.to_datetime(data_calls['call_date'], format='%Y-%m-%d')\n",
    "data_calls['month'] = data_calls['call_date'].dt.month\n",
    "data_calls_sum = (data_calls\n",
    "                  .pivot_table(index='user_id', values='duration', columns='month', aggfunc='sum')\n",
    "                  .fillna(0)\n",
    "                  .astype('int64')\n",
    "                 )\n",
    "print(data_calls_sum)\n",
    "print()\n",
    "data_calls_count = (data_calls\n",
    "                    .pivot_table(index='user_id', values='duration', columns='month', aggfunc='count')\n",
    "                    .fillna(0)\n",
    "                    .astype('int64')\n",
    "                   )\n",
    "print(data_calls_count)"
   ]
  },
  {
   "cell_type": "markdown",
   "metadata": {},
   "source": [
    "Обработаем данные по звонкам. Предположим, что нулевые значения в таблицах соответствуют звонкам очень малой длительности, которые будут подвержены тарификации в соответствие с политикой компании. Заполним нули в длительности звонков очень малыми значениями. Затем округлим все данные вверх в соответствии с политикой тарификации. Переведём столбец call_date в формат даты, создадим отдельный столбец с номерами месяцев, затем сделаем сводную таблицу по месяцам для суммарной длительности звонков и для количества звонков. Необходимо отметить, что, хотя пользователей 500, в таблице всего 492 строки."
   ]
  },
  {
   "cell_type": "code",
   "execution_count": 7,
   "metadata": {},
   "outputs": [
    {
     "name": "stdout",
     "output_type": "stream",
     "text": [
      "month    1   2   3   4   5    6    7    8    9    10   11   12\n",
      "user_id                                                       \n",
      "1000      0   0   0   0  22   60   75   81   57   73   58   70\n",
      "1002      0   0   0   0   0    4   11   13    4   10   16   12\n",
      "1003      0   0   0   0   0    0    0   37   91   83   94   75\n",
      "1004      0   0   0   0  95  134  181  151  146  165  158  162\n",
      "1005      7  38  56  41  42   47   56   64   52   44   51   54\n",
      "...      ..  ..  ..  ..  ..  ...  ...  ...  ...  ...  ...  ...\n",
      "1495      0   0   0   0   0    0    0   13   82   82   79   84\n",
      "1496      9  45  46  49  40   35   42   41   29   35   46   51\n",
      "1497      0   0   0   0   0    0    0    0    0   20   14   17\n",
      "1498      0   0   0   0   0    0   20   62   44   42    0    0\n",
      "1499      0   0   0   0   0    0    0    0   11   48   59   66\n",
      "\n",
      "[426 rows x 12 columns]\n"
     ]
    }
   ],
   "source": [
    "data_sms['message_date']=pd.to_datetime(data_sms['message_date'], format='%Y-%m-%d')\n",
    "data_sms['month'] = data_sms['message_date'].dt.month\n",
    "data_sms_count = (data_sms\n",
    "                  .pivot_table(index='user_id', values='message_date', columns='month', aggfunc='count')\n",
    "                  .fillna(0)\n",
    "                  .astype('int64')\n",
    "                 )\n",
    "print(data_sms_count)"
   ]
  },
  {
   "cell_type": "markdown",
   "metadata": {},
   "source": [
    "Обработаем данные по сообщениям. Переведём столбец message_date в формат даты, создадим отдельный столбец с номерами месяцев, затем сделаем сводную таблицу по месяцам для количества сообщений. Необходимо отметить, что в таблице всего 426 строк."
   ]
  },
  {
   "cell_type": "code",
   "execution_count": 8,
   "metadata": {},
   "outputs": [
    {
     "name": "stdout",
     "output_type": "stream",
     "text": [
      "month      1      2      3      4      5      6      7      8      9      10  \\\n",
      "user_id                                                                        \n",
      "1000        0      0      0      0   2257  23262  14017  14072  14583  14717   \n",
      "1001        0      0      0      0      0      0      0      0      0      0   \n",
      "1002        0      0      0      0      0  10878  17615  20357  16724  13913   \n",
      "1003        0      0      0      0      0      0      0   8572  12479  14779   \n",
      "1004        0      0      0      0  13415  17621  22246  28609  15130  18498   \n",
      "...       ...    ...    ...    ...    ...    ...    ...    ...    ...    ...   \n",
      "1495        0      0      0      0      0      0      0   2616  33107  29399   \n",
      "1496     3768  28537  24999  21113  23751  20175  24406  23569  26982  28227   \n",
      "1497        0      0      0      0      0      0      0      0      0  11516   \n",
      "1498        0      0      0      0      0      0   7488  24279  22186  20614   \n",
      "1499        0      0      0      0      0      0      0      0   1849  17824   \n",
      "\n",
      "month       11     12  \n",
      "user_id                \n",
      "1000     14769   9829  \n",
      "1001     18460  14059  \n",
      "1002     18621  18147  \n",
      "1003     11369  10132  \n",
      "1004     15634  18041  \n",
      "...        ...    ...  \n",
      "1495     38973  23451  \n",
      "1496     25113  20770  \n",
      "1497     14180  19946  \n",
      "1498         0      0  \n",
      "1499     17994  13082  \n",
      "\n",
      "[497 rows x 12 columns]\n"
     ]
    }
   ],
   "source": [
    "data_internet = data_internet.drop(data_internet.columns[0], axis='columns')\n",
    "data_internet['mb_used'] = data_internet['mb_used'].replace(0,0.01).apply(np.ceil)\n",
    "data_internet['session_date']=pd.to_datetime(data_internet['session_date'], format='%Y-%m-%d')\n",
    "data_internet['month'] = data_internet['session_date'].dt.month\n",
    "data_internet_sum = (data_internet\n",
    "                  .pivot_table(index='user_id', values='mb_used', columns='month', aggfunc='sum')\n",
    "                  .fillna(0)\n",
    "                  .apply(np.ceil)\n",
    "                  .astype('int64')\n",
    "                 )\n",
    "print(data_internet_sum)"
   ]
  },
  {
   "cell_type": "markdown",
   "metadata": {},
   "source": [
    "Обработаем данные по интернет-трафику. Удалим ненужный столбец \"Unnamed: 0\". Предположим, что нулевые значения соответствуют интернет-сессиям очень малой длительности. Заполним нули в столбце mb_used малыми значениями. Затем округлим все данные вверх в соответствии с политикой тарификации. Переведём столбец session_date в формат даты, создадим отдельный столбец с номерами месяцев, затем сделаем сводную таблицу по месяцам для количества потраченных мегабайт. Необходимо отметить, что в таблице всего 497 строк."
   ]
  },
  {
   "cell_type": "code",
   "execution_count": 9,
   "metadata": {},
   "outputs": [],
   "source": [
    "data['churn_date'] = data['churn_date'].fillna(0)\n",
    "def set_date(date):\n",
    "    if date != 0:\n",
    "        date = pd.to_datetime(date, format='%Y-%m-%d')\n",
    "    return date\n",
    "data['churn_date'] = data['churn_date'].apply(set_date)\n",
    "data['reg_date'] = data['reg_date'].apply(set_date)"
   ]
  },
  {
   "cell_type": "markdown",
   "metadata": {},
   "source": [
    "Обработаем основную таблицу со сводкой по пользователям. Заполним пропуски в churn_date нулями. Переведём столбцы churn_date и reg_date в формат даты."
   ]
  },
  {
   "cell_type": "code",
   "execution_count": 10,
   "metadata": {},
   "outputs": [],
   "source": [
    "def money_count(row):\n",
    "    \"\"\"\n",
    "    функция создаёт в основной таблице data столбец с массивом из 12 значений,\n",
    "    в котором каждое значение соответствует расходам пользователя за один месяц,\n",
    "    для расчёта используются данные из ранее составленных сводных таблиц:\n",
    "    data_calls_sum, data_internet_sum, data_sms_count\n",
    "    \"\"\"\n",
    "    userid = row['user_id']\n",
    "    tariff = row['tariff']\n",
    "    money_array = []\n",
    "    start_month = row['reg_date'].month\n",
    "    if row['churn_date']==0:\n",
    "        final_month = 13\n",
    "    else:\n",
    "        final_month = row['churn_date'].month + 1\n",
    "    for i in range(1,final_month):\n",
    "        if i<start_month:\n",
    "            money_array.append(0)\n",
    "        else:\n",
    "            if tariff == 'smart': #расчёт для тарифа смарт\n",
    "                money=550         #по умолчанию прибавляется 550 рублей в месяц\n",
    "                if userid in data_calls_sum.index:                       \n",
    "                    if data_calls_sum.loc[userid, i]>500:\n",
    "                        money += (data_calls_sum.loc[userid, i]-500)*3 #расчёт стоимости дополнительных минут\n",
    "                if userid in data_sms_count.index:\n",
    "                    if data_sms_count.loc[userid, i]>50:\n",
    "                        money += (data_sms_count.loc[userid,i]-50)*3 #расчёт стоимости дополнительных сообщений\n",
    "                if userid in data_internet_sum.index:\n",
    "                    if data_internet_sum.loc[userid, i]>15360:\n",
    "                        gygabyte = np.ceil((data_internet_sum.loc[userid, i]-15360)/1024)\n",
    "                        money += gygabyte*200 #расчёт стоимости дополнительных гигабайт\n",
    "                        \n",
    "            else:                #расчёт для тарифа смарт\n",
    "                money=1950       #по умолчанию прибавляется 550 рублей в месяц\n",
    "                if userid in data_calls_sum.index:\n",
    "                    if data_calls_sum.loc[userid, i]>3000:  \n",
    "                        money += data_calls_sum.loc[userid, i]-3000 #расчёт стоимости дополнительных минут\n",
    "                if userid in data_sms_count.index:\n",
    "                    if data_sms_count.loc[userid, i]>1000:\n",
    "                        money += data_sms_count.loc[userid, i]-1000 #расчёт стоимости дополнительных сообщений\n",
    "                if userid in data_internet_sum.index:\n",
    "                    if data_internet_sum.loc[userid, i]>30720:\n",
    "                        gygabyte = np.ceil((data_internet_sum.loc[userid, i]-30720)/1024)\n",
    "                        money += gygabyte*150 #расчёт стоимости дополнительных гигабайт\n",
    "            money = int(money)\n",
    "            money_array.append(money)\n",
    "    while len(money_array)<=12: #дополняет массив нулями для пользователей, отказавшихся от тарифа до конца года\n",
    "        money_array.append(0)\n",
    "    return money_array\n",
    "data['money_total'] = data.apply(money_count, axis=1)"
   ]
  },
  {
   "cell_type": "code",
   "execution_count": 11,
   "metadata": {},
   "outputs": [
    {
     "name": "stdout",
     "output_type": "stream",
     "text": [
      "           0     1     2     3     4     5     6     7     8     9    10  \\\n",
      "user_id                                                                    \n",
      "1000       0     0     0     0  1950  1950  1950  1950  1950  1950  1950   \n",
      "1001       0     0     0     0     0     0     0     0     0     0  1350   \n",
      "1002       0     0     0     0     0   550  1150  1550   950   550  1350   \n",
      "1003       0     0     0     0     0     0     0  1950  1950  1950  1950   \n",
      "1004       0     0     0     0  1950  1950  1950  1950  1950  1950  1950   \n",
      "...      ...   ...   ...   ...   ...   ...   ...   ...   ...   ...   ...   \n",
      "1495       0     0     0     0     0     0     0  1950  2400  1950  3300   \n",
      "1496     550  3468  2757  1858  2350  1766  2626  2509  2950  3150  3078   \n",
      "1497       0     0     0     0     0     0     0     0     0   568   550   \n",
      "1498       0     0     0     0     0     0   550  2386  1950  1750     0   \n",
      "1499       0     0     0     0     0     0     0     0   550  1150  1549   \n",
      "\n",
      "           11  12 tariff         city  \n",
      "user_id                                \n",
      "1000     1950   0  ultra    Краснодар  \n",
      "1001      550   0  smart       Москва  \n",
      "1002     1150   0  smart  Стерлитамак  \n",
      "1003     1950   0  ultra       Москва  \n",
      "1004     1950   0  ultra  Новокузнецк  \n",
      "...       ...  ..    ...          ...  \n",
      "1495     1950   0  ultra      Иркутск  \n",
      "1496     1852   0  smart      Вологда  \n",
      "1497     1724   0  smart    Челябинск  \n",
      "1498        0   0  smart  Владикавказ  \n",
      "1499      613   0  smart        Пермь  \n",
      "\n",
      "[500 rows x 15 columns]\n"
     ]
    }
   ],
   "source": [
    "data_month_money = data['money_total'].apply(pd.Series)\n",
    "data_month_money['tariff']=data['tariff']\n",
    "data_month_money['city']=data['city']\n",
    "data_month_money.index = data['user_id']\n",
    "print(data_month_money)"
   ]
  },
  {
   "cell_type": "markdown",
   "metadata": {},
   "source": [
    "С помощью функции money_count рассчитаем, сколько денег в месяц тратит каждый пользователь. Для удобства преобразуем полученный столбец \"money_total\" основной таблицы в новый датафрейм data_month_money. Добавим сюда столбцы с типом тарифа и городом для последующих расчётов."
   ]
  },
  {
   "cell_type": "markdown",
   "metadata": {},
   "source": [
    "## 3. Анализ данных"
   ]
  },
  {
   "cell_type": "code",
   "execution_count": 12,
   "metadata": {},
   "outputs": [],
   "source": [
    "def listmerge(lstlst):\n",
    "    \"\"\"\n",
    "    преобразует многомерный массив в одномерный,\n",
    "    отбрасывая нулевые значения\n",
    "    \"\"\"\n",
    "    final=[]\n",
    "    for lst in lstlst:\n",
    "        for element in lst:\n",
    "            if element !=0:\n",
    "                final.append(element)\n",
    "    return final\n",
    "\n",
    "smart_list = data.query('tariff==\"smart\"')['user_id'].values.tolist()\n",
    "ultra_list = data.query('tariff==\"ultra\"')['user_id'].values.tolist()\n",
    "\n",
    "smart_calls = pd.Series(listmerge(data_calls_sum.query('index in @smart_list').values))\n",
    "ultra_calls = pd.Series(listmerge(data_calls_sum.query('index in @ultra_list').values))\n",
    "\n",
    "smart_internet = pd.Series(listmerge(data_internet_sum.query('index in @smart_list').values))\n",
    "ultra_internet = pd.Series(listmerge(data_internet_sum.query('index in @ultra_list').values))\n",
    "\n",
    "smart_sms = pd.Series(listmerge(data_sms_count.query('index in @smart_list').values))\n",
    "ultra_sms = pd.Series(listmerge(data_sms_count.query('index in @ultra_list').values))"
   ]
  },
  {
   "cell_type": "markdown",
   "metadata": {},
   "source": [
    "Создадим отдельные таблицы для количества минут, смс и израсходованного трафика для каждого из тарифов. Заодно отбросим нулевые значения (нули в сводных таблицах соответствуют месяцам, когда абонент не был подключен к тарифу, следовательно, включать их в анализ не имеет смысла)."
   ]
  },
  {
   "cell_type": "code",
   "execution_count": 13,
   "metadata": {},
   "outputs": [
    {
     "name": "stdout",
     "output_type": "stream",
     "text": [
      "Минуты разговора в месяц:\n",
      "Для тарифа smart в среднем 430.6 минут (медиана 435.0), с дисперсией 37578.0 и стандартным отклонением 193.8\n",
      "Для тарифа ultra в среднем 560.1 минут, (медиана 544.0), с дисперсией 99062.6 и стандартным отклонением 314.6\n",
      "Пользователи тарифа ultra в среднем тратят на 30% минут в месяц больше, чем пользователи тарифа smart\n"
     ]
    },
    {
     "data": {
      "text/plain": [
       "<matplotlib.legend.Legend at 0x24ae6b68ec8>"
      ]
     },
     "execution_count": 13,
     "metadata": {},
     "output_type": "execute_result"
    },
    {
     "data": {
      "image/png": "[encoded data removed]",
      "text/plain": [
       "<Figure size 720x288 with 1 Axes>"
      ]
     },
     "metadata": {
      "needs_background": "light"
     },
     "output_type": "display_data"
    }
   ],
   "source": [
    "print('Минуты разговора в месяц:')\n",
    "print('Для тарифа smart в среднем {:.1f} минут'.format(smart_calls.mean()),\n",
    "      '(медиана {:.1f}),'.format(smart_calls.median()),\n",
    "      'с дисперсией {:.1f}'.format(np.var(smart_calls, ddof=1)),\n",
    "      'и стандартным отклонением {:.1f}'.format(np.std(smart_calls)))\n",
    "print('Для тарифа ultra в среднем {:.1f} минут,'.format(ultra_calls.mean()),\n",
    "      '(медиана {:.1f}),'.format(ultra_calls.median()),\n",
    "      'с дисперсией {:.1f}'.format(np.var(ultra_calls, ddof=1)),\n",
    "      'и стандартным отклонением {:.1f}'.format(np.std(ultra_calls)))\n",
    "print('Пользователи тарифа ultra в среднем тратят на {:.0%}'\n",
    "      .format(ultra_calls.mean()/smart_calls.mean()-1),\n",
    "      'минут в месяц больше, чем пользователи тарифа smart')\n",
    "\n",
    "smart_calls.hist(bins=20, alpha=0.5, figsize=(10,4))\n",
    "ultra_calls.hist(bins=20, alpha=0.5, figsize=(10,4)) \n",
    "plt.title('Минуты разговора в месяц по тарифам')\n",
    "plt.ylabel('Количество данных')\n",
    "plt.xlabel('Количество минут')\n",
    "plt.legend(['smart','ultra'])"
   ]
  },
  {
   "cell_type": "markdown",
   "metadata": {},
   "source": [
    "Пользователи тарифа ultra в среднем тратят на 30% минут в месяц больше, чем пользователи тарифа smart. Распределение количества потраченных минут похоже на нормальное, датасет практически не скошен. Однако разброс значений велик - стандартное отклонение составляет примерно половину от среднего для каждого из тарифов."
   ]
  },
  {
   "cell_type": "code",
   "execution_count": 14,
   "metadata": {},
   "outputs": [
    {
     "name": "stdout",
     "output_type": "stream",
     "text": [
      "Объём интернет-трафика в мегабайтах в месяц:\n",
      "Для тарифа smart в среднем 16244.5 мегабайт, (медиана 16541.5), с дисперсией 34469075.7 и стандартным отклонением 5869.7\n",
      "Для тарифа ultra в среднем 19688.6 мегабайт, (медиана 19416.0), с дисперсией 99058834.6 и стандартным отклонением 9947.7\n",
      "Пользователи тарифа ultra в среднем используют на 21% мегабайт в месяц больше, чем пользователи тарифа smart\n"
     ]
    },
    {
     "data": {
      "text/plain": [
       "<matplotlib.legend.Legend at 0x24ae89129c8>"
      ]
     },
     "execution_count": 14,
     "metadata": {},
     "output_type": "execute_result"
    },
    {
     "data": {
      "image/png": "[encoded data removed]",
      "text/plain": [
       "<Figure size 720x288 with 1 Axes>"
      ]
     },
     "metadata": {
      "needs_background": "light"
     },
     "output_type": "display_data"
    }
   ],
   "source": [
    "print('Объём интернет-трафика в мегабайтах в месяц:')\n",
    "print('Для тарифа smart в среднем {:.1f} мегабайт,'.format(smart_internet.mean()),\n",
    "      '(медиана {:.1f}),'.format(smart_internet.median()),\n",
    "      'с дисперсией {:.1f}'.format(np.var(smart_internet, ddof=1)),\n",
    "      'и стандартным отклонением {:.1f}'.format(np.std(smart_internet)))\n",
    "print('Для тарифа ultra в среднем {:.1f} мегабайт,'.format(ultra_internet.mean()),\n",
    "      '(медиана {:.1f}),'.format(ultra_internet.median()),\n",
    "      'с дисперсией {:.1f}'.format(np.var(ultra_internet, ddof=1)),\n",
    "      'и стандартным отклонением {:.1f}'.format(np.std(ultra_internet)))\n",
    "print('Пользователи тарифа ultra в среднем используют на {:.0%}'\n",
    "      .format(ultra_internet.mean()/smart_internet.mean()-1),\n",
    "      'мегабайт в месяц больше, чем пользователи тарифа smart')\n",
    "\n",
    "smart_internet.hist(bins=15, alpha=0.5, figsize=(10,4))\n",
    "ultra_internet.hist(bins=15, alpha=0.5, figsize=(10,4))\n",
    "plt.title('Мегабайты трафика в месяц по тарифам')\n",
    "plt.ylabel('Количество данных')\n",
    "plt.xlabel('Количество мегабайт')\n",
    "plt.legend(['smart','ultra'])"
   ]
  },
  {
   "cell_type": "markdown",
   "metadata": {},
   "source": [
    "Пользователи тарифа ultra в среднем используют на 21% мегабайт в месяц больше, чем пользователи тарифа smart. Распределение количества мегабайт похоже на нормальное, датасет практически не скошен. Разброс значений для тарифа ultra гораздо больше, чем для тарифа smart."
   ]
  },
  {
   "cell_type": "code",
   "execution_count": 15,
   "metadata": {},
   "outputs": [
    {
     "name": "stdout",
     "output_type": "stream",
     "text": [
      "Количество сообщений в месяц:\n",
      "Для тарифа smart в среднем 38.7 сообщений (медиана 34.0), с дисперсией 717.6 и стандартным отклонением 26.8\n",
      "Для тарифа ultra в среднем 61.2 сообщений (медиана 51.0), с дисперсией 2109.7 и стандартным отклонением 45.9\n",
      "Пользователи тарифа ultra в среднем отправляют на 58% сообщений в месяц больше, чем пользователи тарифа smart\n"
     ]
    },
    {
     "data": {
      "text/plain": [
       "<matplotlib.legend.Legend at 0x24ae8eb3708>"
      ]
     },
     "execution_count": 15,
     "metadata": {},
     "output_type": "execute_result"
    },
    {
     "data": {
      "image/png": "[encoded data removed]",
      "text/plain": [
       "<Figure size 720x288 with 1 Axes>"
      ]
     },
     "metadata": {
      "needs_background": "light"
     },
     "output_type": "display_data"
    }
   ],
   "source": [
    "print('Количество сообщений в месяц:')\n",
    "print('Для тарифа smart в среднем {:.1f} сообщений'.format(smart_sms.mean()),\n",
    "      '(медиана {:.1f}),'.format(smart_sms.median()),\n",
    "      'с дисперсией {:.1f}'.format(np.var(smart_sms, ddof=1)),\n",
    "      'и стандартным отклонением {:.1f}'.format(np.std(smart_sms)))\n",
    "print('Для тарифа ultra в среднем {:.1f} сообщений'.format(ultra_sms.mean()),\n",
    "      '(медиана {:.1f}),'.format(ultra_sms.median()),\n",
    "      'с дисперсией {:.1f}'.format(np.var(ultra_sms, ddof=1)),\n",
    "      'и стандартным отклонением {:.1f}'.format(np.std(ultra_sms)))\n",
    "print('Пользователи тарифа ultra в среднем отправляют на {:.0%}'\n",
    "      .format(ultra_sms.mean()/smart_sms.mean()-1),\n",
    "      'сообщений в месяц больше, чем пользователи тарифа smart')\n",
    "smart_sms.hist(bins=20, alpha=0.5, figsize=(10,4))\n",
    "ultra_sms.hist(bins=20, alpha=0.5, figsize=(10,4))\n",
    "plt.title('Количество сообщений в месяц по тарифам')\n",
    "plt.ylabel('Количество данных')\n",
    "plt.xlabel('Количество сообщений')\n",
    "plt.legend(['smart','ultra'])"
   ]
  },
  {
   "cell_type": "markdown",
   "metadata": {},
   "source": [
    "Пользователи тарифа ultra в среднем отправляют на 58% сообщений в месяц больше, чем пользователи тарифа smart. Датасет сильно скошен вправо. Разброс значений для тарифа ultra вновь гораздо больше, чем для тарифа smart, у данных по тарифу ultra длинный \"хвост\"."
   ]
  },
  {
   "cell_type": "markdown",
   "metadata": {},
   "source": [
    "### Вывод"
   ]
  },
  {
   "cell_type": "markdown",
   "metadata": {},
   "source": [
    "Несмотря на то, что тариф ultra стоит почти в 4 раза больше, чем тариф smart, обладатели ultra в среднем пользуются им лишь в полтора раза интенсивнее. Однако важно отметить, что для тарифа ultra характерен гораздо больший разброс значений, чем для тарифа smart."
   ]
  },
  {
   "cell_type": "markdown",
   "metadata": {},
   "source": [
    "## 4. Проверка гипотез"
   ]
  },
  {
   "cell_type": "code",
   "execution_count": 16,
   "metadata": {},
   "outputs": [
    {
     "name": "stdout",
     "output_type": "stream",
     "text": [
      "Средняя выручка пользователей тарифа smart составляет 1312.2 с дисперсией 690409.1\n",
      "Средняя выручка пользователей тарифа ultra составляет 2070.9 с дисперсией 143360.4\n",
      "\n",
      "p-значение: 5.86713410264761e-234\n",
      "Отвергаем нулевую гипотезу\n"
     ]
    }
   ],
   "source": [
    "smart_money = listmerge(data_month_money.query('tariff==\"smart\"')\n",
    "                        .drop(['tariff','city'], axis=1).values)\n",
    "ultra_money = listmerge(data_month_money.query('tariff==\"ultra\"')\n",
    "                        .drop(['tariff','city'], axis=1).values)\n",
    "print('Средняя выручка пользователей тарифа smart составляет {:.1f}'.format(np.mean(smart_money)),\n",
    "      'с дисперсией {:.1f}'.format(np.var(smart_money, ddof=1)))\n",
    "print('Средняя выручка пользователей тарифа ultra составляет {:.1f}'.format(np.mean(ultra_money)),\n",
    "      'с дисперсией {:.1f}'.format(np.var(ultra_money, ddof=1)))\n",
    "print()\n",
    "\n",
    "alpha = .05\n",
    "results = st.ttest_ind(smart_money, ultra_money, equal_var = False)\n",
    "print('p-значение:', results.pvalue)\n",
    "if (results.pvalue<alpha):\n",
    "    print(\"Отвергаем нулевую гипотезу\")\n",
    "else:\n",
    "    print(\"Не отвергаем нулевую гипотезу\")"
   ]
  },
  {
   "cell_type": "markdown",
   "metadata": {},
   "source": [
    "Нулевая гипотеза: средняя выручка пользователей тарифа ultra не отличается от средней выручки пользователей тарифа smart (т.к. нулевая гипотеза всегда формулируется с использованием равенства). Альтернативная гипотеза: средняя выручка пользователей тарифа ultra больше средней выручки пользователей тарифа smart. Используем t-тест на этих двух наборах несвязанных между собой данных, учтём то, что дисперсии у двух выборок сильно различаются между собой. Близкое к нулю значение p-value говорит о том, что различия между выручками для пользователей разных тарифов слишком значимы и неслучайны, следовательно, отвергнем нулевую гипотезу."
   ]
  },
  {
   "cell_type": "code",
   "execution_count": 17,
   "metadata": {},
   "outputs": [
    {
     "name": "stdout",
     "output_type": "stream",
     "text": [
      "Средняя выручка пользователей тарифа из Москвы составляет 1561.2 с дисперсией 567332.1\n",
      "Средняя выручка пользователей тарифа из других городов составляет 1541.0 с дисперсией 663397.5\n",
      "\n",
      "p-значение: 0.5746021529115002\n",
      "Не отвергаем нулевую гипотезу\n"
     ]
    }
   ],
   "source": [
    "moscow_money = listmerge(data_month_money.query('city==\"Москва\"')\n",
    "                         .drop(['tariff','city'], axis=1).values)\n",
    "nonmoscow_money = listmerge(data_month_money.query('city!=\"Москва\"')\n",
    "                            .drop(['tariff','city'], axis=1).values)\n",
    "print('Средняя выручка пользователей тарифа из Москвы составляет {:.1f}'.format(np.mean(moscow_money)),\n",
    "      'с дисперсией {:.1f}'.format(np.var(moscow_money, ddof=1)))\n",
    "print('Средняя выручка пользователей тарифа из других городов составляет {:.1f}'.format(np.mean(nonmoscow_money)),\n",
    "      'с дисперсией {:.1f}'.format(np.var(nonmoscow_money, ddof=1)))\n",
    "print()\n",
    "\n",
    "results2 = st.ttest_ind(moscow_money, nonmoscow_money, equal_var = True)\n",
    "print('p-значение:', results2.pvalue)\n",
    "if (results2.pvalue<alpha):\n",
    "    print(\"Отвергаем нулевую гипотезу\")\n",
    "else:\n",
    "    print(\"Не отвергаем нулевую гипотезу\")"
   ]
  },
  {
   "cell_type": "markdown",
   "metadata": {},
   "source": [
    "Нулевая гипотеза: средняя выручка пользователей из Москвы не отличается от средней выручки пользователей из других городов. Альтернативная гипотеза: средняя выручка пользователей из Москвы больше средней выручки пользователей из других городов. Используем t-тест на этих двух наборах несвязанных между собой данных. Высокое значение p-value говорит о том, что различия между выручками для пользователей разных тарифов с большой вероятностью возникли случайно, следовательно, нельзя отвергнуть нулевую гипотезу."
   ]
  },
  {
   "cell_type": "markdown",
   "metadata": {},
   "source": [
    "### Вывод"
   ]
  },
  {
   "cell_type": "markdown",
   "metadata": {},
   "source": [
    "Пользователи тарифа ultra приносят больше денег (в среднем 2071 рубль в месяц), чем пользователи тарифа smart (в среднем 1312 рубля в месяц), при этом пользуясь тарифом максимум в полтора раза интенсивнее. Однако помесячная выручка с пользователей тарифа ultra лишь немного превышает стоимость тарифа без дополнительных услуг (1950 рублей в месяц), в то время как пользователи тарифа smart в месяц платят сумму, превышающую стоимость тарифа (550 рублей в месяц) более чем в два раза. Отсюда можно выдвинуть предположение, что многих пользователей не устраивает объём услуг, предлагаемый как тарифом smart, так и тарифом ultra. Вероятно, можно подумать о создании некого компромиссного тарифа с большим объёмом услуг и большей стоимостью, чем тариф smart."
   ]
  },
  {
   "cell_type": "markdown",
   "metadata": {},
   "source": [
    "## 5. Подготовка данных для машинного обучения"
   ]
  },
  {
   "cell_type": "code",
   "execution_count": 18,
   "metadata": {},
   "outputs": [
    {
     "name": "stdout",
     "output_type": "stream",
     "text": [
      "<class 'pandas.core.frame.DataFrame'>\n",
      "RangeIndex: 500 entries, 0 to 499\n",
      "Data columns (total 9 columns):\n",
      " #   Column       Non-Null Count  Dtype         \n",
      "---  ------       --------------  -----         \n",
      " 0   user_id      500 non-null    int64         \n",
      " 1   age          500 non-null    int64         \n",
      " 2   churn_date   500 non-null    object        \n",
      " 3   city         500 non-null    object        \n",
      " 4   first_name   500 non-null    object        \n",
      " 5   last_name    500 non-null    object        \n",
      " 6   reg_date     500 non-null    datetime64[ns]\n",
      " 7   tariff       500 non-null    object        \n",
      " 8   money_total  500 non-null    object        \n",
      "dtypes: datetime64[ns](1), int64(2), object(6)\n",
      "memory usage: 35.3+ KB\n",
      "None\n",
      "Тарифов \"ультра\" 30.65%\n"
     ]
    }
   ],
   "source": [
    "import warnings\n",
    "warnings.filterwarnings(\"ignore\")\n",
    "data_ml = pd.read_csv('../telekom/users_behavior.csv') #данные для построения моделей\n",
    "print(data.info())\n",
    "print('Тарифов \"ультра\" {:.2%}'.format(len(data_ml.query('is_ultra==1'))/len(data_ml)))"
   ]
  },
  {
   "cell_type": "markdown",
   "metadata": {},
   "source": [
    "Данных достаточно для обучения модели. Отметим, что тарифов \"ультра\" примерно 31%, следовательно, классы несбалансированы."
   ]
  },
  {
   "cell_type": "code",
   "execution_count": 19,
   "metadata": {},
   "outputs": [],
   "source": [
    "from sklearn.model_selection import train_test_split\n",
    "data_train, data_test = train_test_split(data_ml, test_size=0.25, random_state=1)\n",
    "\n",
    "test_features = data_test[['calls','minutes','messages','mb_used']]\n",
    "test_target = data_test['is_ultra']\n",
    "\n",
    "train_features = data_train[['calls','minutes','messages','mb_used']].reset_index(drop=True)\n",
    "train_target = data_train['is_ultra'].reset_index(drop=True)"
   ]
  },
  {
   "cell_type": "markdown",
   "metadata": {},
   "source": [
    "Разобъём данные на выборки в соотношение 3:1 на тренировочную и тестовую соответственно. Валидационную выборку выделять не станем, т.к. будем пользоваться встроенными в sklearn механизмами кросс-валидации."
   ]
  },
  {
   "cell_type": "markdown",
   "metadata": {},
   "source": [
    "## 6. Подбор оптимальной модели"
   ]
  },
  {
   "cell_type": "code",
   "execution_count": 20,
   "metadata": {},
   "outputs": [
    {
     "name": "stdout",
     "output_type": "stream",
     "text": [
      "Оптимальная модель решающего дерева (максимальная глубина 3) даёт значение accuracy 0.798\n"
     ]
    }
   ],
   "source": [
    "from sklearn.model_selection import GridSearchCV\n",
    "from sklearn.tree import DecisionTreeClassifier\n",
    "\n",
    "parameters = {'max_depth':(range(1,11))}\n",
    "model = DecisionTreeClassifier(random_state=1, class_weight=\"balanced\")\n",
    "clf = GridSearchCV(model, parameters, scoring='accuracy')\n",
    "clf.fit(train_features, train_target)\n",
    "print(\"Оптимальная модель решающего дерева\",\n",
    "      \"(максимальная глубина {})\".format(clf.best_params_['max_depth']),\n",
    "      \"даёт значение accuracy {:.3f}\".format(clf.best_score_))"
   ]
  },
  {
   "cell_type": "code",
   "execution_count": 21,
   "metadata": {},
   "outputs": [
    {
     "name": "stdout",
     "output_type": "stream",
     "text": [
      "Оптимальная модель случайного леса (число деревьев 36, максимальная глубина 7) даёт значение accuracy 0.805\n"
     ]
    }
   ],
   "source": [
    "from sklearn.ensemble import RandomForestClassifier\n",
    "\n",
    "parameters = {'n_estimators':(range(1,51,5)),'max_depth':(range(5,11,2))}\n",
    "model = RandomForestClassifier(random_state=1, class_weight=\"balanced\")\n",
    "clf = GridSearchCV(model, parameters, scoring='accuracy')\n",
    "clf.fit(train_features, train_target)\n",
    "print(\"Оптимальная модель случайного леса\",\n",
    "      \"(число деревьев {},\".format(clf.best_params_['n_estimators']),\n",
    "      \"максимальная глубина {})\".format(clf.best_params_['max_depth']),\n",
    "      \"даёт значение accuracy {:.3f}\".format(clf.best_score_))"
   ]
  },
  {
   "cell_type": "code",
   "execution_count": 22,
   "metadata": {},
   "outputs": [
    {
     "name": "stdout",
     "output_type": "stream",
     "text": [
      "Оптимальная модель логистической регрессии регрессии (solver = newton-cg) даёт значение accuracy 0.637\n"
     ]
    }
   ],
   "source": [
    "from sklearn.linear_model import LogisticRegression\n",
    "\n",
    "parameters = {'solver':('newton-cg', 'lbfgs', 'liblinear')}\n",
    "model = LogisticRegression(random_state=1, class_weight=\"balanced\")\n",
    "clf = GridSearchCV(model, parameters, scoring='accuracy')\n",
    "clf.fit(train_features, train_target)\n",
    "print(\"Оптимальная модель логистической регрессии регрессии\",\n",
    "      \"(solver = {})\".format(clf.best_params_['solver']),\n",
    "      \"даёт значение accuracy {:.3f}\".format(clf.best_score_))"
   ]
  },
  {
   "cell_type": "markdown",
   "metadata": {},
   "source": [
    "Протестируем три модели: дерева решений, случайного леса и логистической регрессии. С помощью готового функционала GridSearchCV подберём оптимальные гиперпараметры для каждой модели (максимальную глубину дерева для дерева решений, максимальную глубину и число деревьев для случайного леса, solver для логистической регрессии). Наилучшие результаты (accuracy 0.805) показывает модель случайного леса с числом деревьев 36 и максимальной глубиной 7."
   ]
  },
  {
   "cell_type": "markdown",
   "metadata": {},
   "source": [
    "## 7. Тестирование модели"
   ]
  },
  {
   "cell_type": "code",
   "execution_count": 24,
   "metadata": {},
   "outputs": [
    {
     "name": "stdout",
     "output_type": "stream",
     "text": [
      "Accuracy на тестовой выборке равна 0.791\n",
      "Accuracy константной модели равна 0.669\n"
     ]
    }
   ],
   "source": [
    "from sklearn.metrics import accuracy_score\n",
    "\n",
    "model_final = RandomForestClassifier(random_state=1, class_weight=\"balanced\",\n",
    "                                     n_estimators=36, max_depth=7)\n",
    "model_final.fit(train_features, train_target)\n",
    "predictions = model_final.predict(test_features)\n",
    "print(\"Accuracy на тестовой выборке равна {:.3f}\".format(accuracy_score(test_target,predictions)))\n",
    "\n",
    "predictions_const = [0]*len(test_target)\n",
    "print(\"Accuracy константной модели равна {:.3f}\".format(accuracy_score(test_target,predictions_const)))"
   ]
  },
  {
   "cell_type": "markdown",
   "metadata": {},
   "source": [
    "Наилучшая модель, предварительно обученная на тренировочной выборке, даёт значение accuracy на тестовой выборке, равное 0.791. Для понимания того, можно ли использовать модель для предсказаний, проверим её на адекватность, сравнив с константной моделью. Если бы модель предсказывала самый частотный класс 0, то эти предсказания были бы верны в 67% случаев, в то время как accuracy отобранной нами модели составляет 0.791, следовательно, нашу модель работает эффективнее."
   ]
  },
  {
   "cell_type": "markdown",
   "metadata": {},
   "source": [
    "### Общий вывод"
   ]
  },
  {
   "cell_type": "markdown",
   "metadata": {},
   "source": [
    "Проведен предварительный анализ использования тарифов на выборке клиентов, проанализировано поведение клиентов при использовании услуг оператора и рекомендованы оптимальные наборы услуг для пользователей. Проверены гипотезы о различии выручки абонентов разных тарифов и различии выручки абонентов из Москвы и других регионов. Выдвинуто предположение о выгодном тарифном плане для корректировки рекламного бюджета. Построена модель для задачи классификации, которая выберет подходящий тариф. Построена модель с максимально большим значением accuracy и проверена на тестовой выборке. Достигнуто требуемое значение метрики качества."
   ]
  }
 ],
 "metadata": {
  "kernelspec": {
   "display_name": "Python 3",
   "language": "python",
   "name": "python3"
  },
  "language_info": {
   "codemirror_mode": {
    "name": "ipython",
    "version": 3
   },
   "file_extension": ".py",
   "mimetype": "text/x-python",
   "name": "python",
   "nbconvert_exporter": "python",
   "pygments_lexer": "ipython3",
   "version": "3.7.6"
  }
 },
 "nbformat": 4,
 "nbformat_minor": 2
}
