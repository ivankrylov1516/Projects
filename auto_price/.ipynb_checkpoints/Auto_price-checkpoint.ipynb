{
 "cells": [
  {
   "cell_type": "markdown",
   "metadata": {},
   "source": [
    "## План работы\n",
    "### 1. Подготовка данных\n",
    "#### 1.1. Предобработка количественных признаков\n",
    "Построение распределения количественных признаков, поиск и обработка аномалий.\n",
    "#### 1.2. Предобработка качественных признаков\n",
    "Заполнение и/или удаление пропущенных значений в зависимости от количества пропусков.\n",
    "#### 1.3. Предобработка количественных признаков\n",
    "Добавление нужных для расчётов столбцов. Удаление лишних столбцов.\n",
    "### 2. Обучение моделей\n",
    "#### 2.1. Библиотека  LightGBM\n",
    "Обучение модели линейной регрессии на основе градиентного бустинга. Подбор гиперпараметров.\n",
    "#### 2.2. Библиотека sklearn\n",
    "Обучение моделей DecisionTreeRegressor, RandomForestRegressor и LinearRegression. Подбор гиперпараметров.\n",
    "### 3. Анализ моделей\n",
    "Проверка самой точной и самой быстрой моделей на тестовой выборке."
   ]
  },
  {
   "cell_type": "markdown",
   "metadata": {},
   "source": [
    "## Данные\n",
    "В наличии были следующие данные о подержанных автомобилях:\n",
    "- дата скачивания анкеты из базы\n",
    "- тип автомобильного кузова\n",
    "- год регистрации автомобиля\n",
    "- тип коробки передач\n",
    "- мощность\n",
    "- модель автомобиля\n",
    "- пробег\n",
    "- месяц регистрации автомобиля\n",
    "- тип топлива\n",
    "- марка автомобиля\n",
    "- была машина в ремонте или нет\n",
    "- дата создания анкеты\n",
    "- количество фотографий автомобиля\n",
    "- почтовый индекс владельца анкеты (пользователя)"
   ]
  },
  {
   "cell_type": "markdown",
   "metadata": {},
   "source": [
    "# 1. Подготовка данных"
   ]
  },
  {
   "cell_type": "code",
   "execution_count": 1,
   "metadata": {},
   "outputs": [
    {
     "name": "stdout",
     "output_type": "stream",
     "text": [
      "<class 'pandas.core.frame.DataFrame'>\n",
      "RangeIndex: 354369 entries, 0 to 354368\n",
      "Data columns (total 16 columns):\n",
      " #   Column             Non-Null Count   Dtype \n",
      "---  ------             --------------   ----- \n",
      " 0   DateCrawled        354369 non-null  object\n",
      " 1   Price              354369 non-null  int64 \n",
      " 2   VehicleType        316879 non-null  object\n",
      " 3   RegistrationYear   354369 non-null  int64 \n",
      " 4   Gearbox            334536 non-null  object\n",
      " 5   Power              354369 non-null  int64 \n",
      " 6   Model              334664 non-null  object\n",
      " 7   Kilometer          354369 non-null  int64 \n",
      " 8   RegistrationMonth  354369 non-null  int64 \n",
      " 9   FuelType           321474 non-null  object\n",
      " 10  Brand              354369 non-null  object\n",
      " 11  NotRepaired        283215 non-null  object\n",
      " 12  DateCreated        354369 non-null  object\n",
      " 13  NumberOfPictures   354369 non-null  int64 \n",
      " 14  PostalCode         354369 non-null  int64 \n",
      " 15  LastSeen           354369 non-null  object\n",
      "dtypes: int64(7), object(9)\n",
      "memory usage: 43.3+ MB\n",
      "None\n",
      "           DateCrawled  Price VehicleType  RegistrationYear Gearbox  Power  \\\n",
      "0  2016-03-24 11:52:17    480         NaN              1993  manual      0   \n",
      "1  2016-03-24 10:58:45  18300       coupe              2011  manual    190   \n",
      "2  2016-03-14 12:52:21   9800         suv              2004    auto    163   \n",
      "3  2016-03-17 16:54:04   1500       small              2001  manual     75   \n",
      "4  2016-03-31 17:25:20   3600       small              2008  manual     69   \n",
      "\n",
      "   Model  Kilometer  RegistrationMonth  FuelType       Brand NotRepaired  \\\n",
      "0   golf     150000                  0    petrol  volkswagen         NaN   \n",
      "1    NaN     125000                  5  gasoline        audi         yes   \n",
      "2  grand     125000                  8  gasoline        jeep         NaN   \n",
      "3   golf     150000                  6    petrol  volkswagen          no   \n",
      "4  fabia      90000                  7  gasoline       skoda          no   \n",
      "\n",
      "           DateCreated  NumberOfPictures  PostalCode             LastSeen  \n",
      "0  2016-03-24 00:00:00                 0       70435  2016-04-07 03:16:57  \n",
      "1  2016-03-24 00:00:00                 0       66954  2016-04-07 01:46:50  \n",
      "2  2016-03-14 00:00:00                 0       90480  2016-04-05 12:47:46  \n",
      "3  2016-03-17 00:00:00                 0       91074  2016-03-17 17:40:17  \n",
      "4  2016-03-31 00:00:00                 0       60437  2016-04-06 10:17:21  \n"
     ]
    }
   ],
   "source": [
    "import pandas as pd\n",
    "import datetime\n",
    "import numpy as np\n",
    "import matplotlib.pyplot as plt\n",
    "data = pd.read_csv('../Auto_price/autos.csv')\n",
    "print(data.info())\n",
    "print(data.head(5))"
   ]
  },
  {
   "cell_type": "markdown",
   "metadata": {},
   "source": [
    "### 1.1. Предобработка количественных признаков"
   ]
  },
  {
   "cell_type": "code",
   "execution_count": 2,
   "metadata": {},
   "outputs": [
    {
     "name": "stdout",
     "output_type": "stream",
     "text": [
      "Максимальная дата регистрации 2016-04-07 14:36:58\n",
      "\n",
      "0     32913\n",
      "3     32864\n",
      "6     29330\n",
      "4     27958\n",
      "5     27190\n",
      "7     25260\n",
      "10    24520\n",
      "12    22843\n",
      "11    22773\n",
      "9     22431\n",
      "1     22119\n",
      "8     21131\n",
      "2     20365\n",
      "Name: RegistrationMonth, dtype: int64\n"
     ]
    },
    {
     "data": {
      "image/png": "[encoded data removed]",
      "text/plain": [
       "<Figure size 864x360 with 1 Axes>"
      ]
     },
     "metadata": {
      "needs_background": "light"
     },
     "output_type": "display_data"
    }
   ],
   "source": [
    "print(\"Максимальная дата регистрации\",data['DateCrawled'].max())\n",
    "print()\n",
    "data = data.query('RegistrationYear<=2016')\n",
    "reg_year_index = data.query('RegistrationYear==2016 and RegistrationMonth>4').index\n",
    "data = data.query('index not in @reg_year_index')\n",
    "data['RegistrationYear'].value_counts().plot(marker='o', linestyle='', figsize = (12,5))\n",
    "plt.xlim(1950,2017)\n",
    "plt.title('Количество зарегистрированных автомобилей в разные годы')\n",
    "data = data.query('RegistrationYear>=1980')\n",
    "\n",
    "print(data['RegistrationMonth'].value_counts())"
   ]
  },
  {
   "cell_type": "markdown",
   "metadata": {},
   "source": [
    "Обработаем признаки, касающиеся даты и времени: столбцы \"Registration Month\", \"Registration Year\", \"Date Crawled\". Так как самая поздняя дата извлечения данных 2016.04.07, значения года и месяца регистрации не могут быть больше 2016.04. Уберём неподходящие значения из данных. График количества автомобилей, зарегистрированных в разные годы, показывает, что целесообразно взять данные только с 1980 года, когда начался стабильный рост количества зарегистрированных автомобилей. Кроме того, поиск аномалий в столбце 'RegistrationMonth' выявляет аномальное значение 0, однако для дальнейших расчётов это не критично."
   ]
  },
  {
   "cell_type": "code",
   "execution_count": 3,
   "metadata": {},
   "outputs": [
    {
     "data": {
      "image/png": "[encoded data removed]",
      "text/plain": [
       "<Figure size 432x288 with 1 Axes>"
      ]
     },
     "metadata": {
      "needs_background": "light"
     },
     "output_type": "display_data"
    },
    {
     "data": {
      "image/png": "[encoded data removed]",
      "text/plain": [
       "<Figure size 432x288 with 1 Axes>"
      ]
     },
     "metadata": {
      "needs_background": "light"
     },
     "output_type": "display_data"
    }
   ],
   "source": [
    "data['Price'].hist(bins=100)\n",
    "plt.title('Распределение данных по цене')\n",
    "plt.show()\n",
    "data.query('Price<1000')['Price'].hist(bins=20)\n",
    "plt.title('Распределение данных по цене')\n",
    "plt.show()\n",
    "data = data.query('Price!=0')"
   ]
  },
  {
   "cell_type": "markdown",
   "metadata": {},
   "source": [
    "Обработаем столбец \"Price\". Построение распределения данных по цене выявляет аномалию в виде нулевых значений. Уберём эти данные."
   ]
  },
  {
   "cell_type": "code",
   "execution_count": 4,
   "metadata": {},
   "outputs": [
    {
     "data": {
      "image/png": "[encoded data removed]",
      "text/plain": [
       "<Figure size 432x288 with 1 Axes>"
      ]
     },
     "metadata": {
      "needs_background": "light"
     },
     "output_type": "display_data"
    },
    {
     "data": {
      "image/png": "[encoded data removed]",
      "text/plain": [
       "<Figure size 432x288 with 1 Axes>"
      ]
     },
     "metadata": {
      "needs_background": "light"
     },
     "output_type": "display_data"
    },
    {
     "name": "stdout",
     "output_type": "stream",
     "text": [
      "Строк с нулевым значением мощности 9.59%\n"
     ]
    }
   ],
   "source": [
    "data['Power'].hist(bins=100)\n",
    "plt.title('Распределение данных по мощности')\n",
    "plt.show()\n",
    "data.query('Power<1000')['Power'].hist(bins=100)\n",
    "plt.title('Распределение данных по мощности')\n",
    "plt.show()\n",
    "print(\"Строк с нулевым значением мощности {:.2%}\".format(len(data.query('Power==0'))/len(data)))\n",
    "data=data.query('Power<400')\n",
    "\n",
    "def fill_power(row):\n",
    "    \"\"\"\n",
    "    Заполняет пропуски в стобце 'Power' средним значением для данной модели\n",
    "    \"\"\"\n",
    "    power=row['Power']\n",
    "    model=row['Model']\n",
    "    if power==0:\n",
    "        power=data.query('Model==@model and Power!=0')['Power'].mean()\n",
    "    return power\n",
    "\n",
    "data['Power']=data.apply(fill_power, axis=1)\n",
    "data=data.query('Power!=0')"
   ]
  },
  {
   "cell_type": "markdown",
   "metadata": {},
   "source": [
    "Обработаем столбец \"Power\". Построение распределения данных по мощности выявляет аномалию в виде нулевых значений. Таких данных довольно много, около 10%, поэтому представляется нецелесообразным их удалять. Заполним их средним значением для данной марки автомобиля."
   ]
  },
  {
   "cell_type": "code",
   "execution_count": 5,
   "metadata": {},
   "outputs": [
    {
     "data": {
      "text/plain": [
       "Text(0.5, 1.0, 'Распределение данных по километражу')"
      ]
     },
     "execution_count": 5,
     "metadata": {},
     "output_type": "execute_result"
    },
    {
     "data": {
      "image/png": "[encoded data removed]",
      "text/plain": [
       "<Figure size 432x288 with 1 Axes>"
      ]
     },
     "metadata": {
      "needs_background": "light"
     },
     "output_type": "display_data"
    }
   ],
   "source": [
    "data['Kilometer'].hist(bins=100)\n",
    "plt.title('Распределение данных по километражу')"
   ]
  },
  {
   "cell_type": "markdown",
   "metadata": {},
   "source": [
    "Обработаем столбец \"Kilometer\". Построение распределения данных по километражу явных аномалий не выявило."
   ]
  },
  {
   "cell_type": "markdown",
   "metadata": {},
   "source": [
    "### 1.2. Предобработка категориальных признаков"
   ]
  },
  {
   "cell_type": "code",
   "execution_count": 6,
   "metadata": {},
   "outputs": [
    {
     "name": "stdout",
     "output_type": "stream",
     "text": [
      "Количество пропущенных значений в столбцах:\n",
      "VehicleType 4.73%\n",
      "Gearbox 4.55%\n",
      "Model 4.44%\n",
      "FuelType 6.77%\n",
      "NotRepaired 17.72%\n"
     ]
    }
   ],
   "source": [
    "print(\"Количество пропущенных значений в столбцах:\")\n",
    "for _ in ['VehicleType','Gearbox','Model','FuelType','NotRepaired']:\n",
    "    print(_, \"{:.2%}\".format(data[_].isna().sum()/len(data)))\n",
    "\n",
    "data = data.dropna(subset=['VehicleType','Model','Gearbox'])\n",
    "data = data.fillna(0)\n",
    "\n",
    "def fill_fuel_type(row):\n",
    "    \"\"\"\n",
    "    Заполняет пропуски в стобце 'FuelType' самым частотным значением для данной модели\n",
    "    \"\"\"\n",
    "    fuel_type = row['FuelType']\n",
    "    model = row['Model']\n",
    "    if fuel_type == 0:\n",
    "        fuel_type = data.query('Model==@model')['FuelType'].value_counts().index[0]\n",
    "    return fuel_type\n",
    "\n",
    "data['FuelType']=data.apply(fill_fuel_type, axis=1)"
   ]
  },
  {
   "cell_type": "code",
   "execution_count": 7,
   "metadata": {},
   "outputs": [],
   "source": [
    "def fill_not_repaired(row):\n",
    "    \"\"\"\n",
    "    Заполняет пропуски в стобце 'NotRepaired' самым частотным значением для данной модели\n",
    "    \"\"\"\n",
    "    not_repaired = row['NotRepaired']\n",
    "    year = row['RegistrationYear']\n",
    "    if not_repaired == 0:\n",
    "        not_repaired = data.query('RegistrationYear==@year')['NotRepaired'].value_counts().index[0]\n",
    "    return not_repaired\n",
    "\n",
    "data['NotRepaired']=data.apply(fill_not_repaired, axis=1)"
   ]
  },
  {
   "cell_type": "markdown",
   "metadata": {},
   "source": [
    "Перейдём к обработке категориальных признаков. Пропуски присутствуют в столбцах \"VehicleType\", \"Gearbox\" и \"Model\" (эти значения предсказать невозможно, удалим эти пропуски), а также \"FuelType\" и \"NotRepaired\" (эти значения представляется логичным заполнить самым частотным значением в соответствие с моделью и годом выпуска)."
   ]
  },
  {
   "cell_type": "markdown",
   "metadata": {},
   "source": [
    "### 1.3. Подготовка данных для анализа"
   ]
  },
  {
   "cell_type": "code",
   "execution_count": 8,
   "metadata": {},
   "outputs": [
    {
     "name": "stdout",
     "output_type": "stream",
     "text": [
      "5\n"
     ]
    }
   ],
   "source": [
    "print(data.duplicated().sum())\n",
    "data = data.drop_duplicates()\n",
    "\n",
    "data['TotalMonths'] = (2016-data['RegistrationYear'])*12 + data['RegistrationMonth']\n",
    "data = data.drop(['DateCreated','DateCrawled','LastSeen','PostalCode','RegistrationMonth','RegistrationYear'], axis=1)"
   ]
  },
  {
   "cell_type": "markdown",
   "metadata": {},
   "source": [
    "Удалим дубликаты. Создадим столбец 'TotalMonths', где посчитаем количество месяцев от этой даты до даты регистрации, с учетом того, что самая поздняя дата регистрации автомобиля это 2016.04. После этого удалим ненужные более для расчётов столбцы 'DateCreated', 'DateCrawled', 'LastSeen', 'PostalCode', 'RegistrationMonth', 'RegistrationYear'."
   ]
  },
  {
   "cell_type": "markdown",
   "metadata": {},
   "source": [
    "# 2. Обучение моделей"
   ]
  },
  {
   "cell_type": "markdown",
   "metadata": {},
   "source": [
    "### 2.1. Библиотека LightGBM"
   ]
  },
  {
   "cell_type": "code",
   "execution_count": 9,
   "metadata": {},
   "outputs": [
    {
     "name": "stdout",
     "output_type": "stream",
     "text": [
      "<class 'pandas.core.frame.DataFrame'>\n",
      "Int64Index: 286983 entries, 2 to 354368\n",
      "Data columns (total 11 columns):\n",
      " #   Column            Non-Null Count   Dtype  \n",
      "---  ------            --------------   -----  \n",
      " 0   Price             286983 non-null  int64  \n",
      " 1   VehicleType       286983 non-null  object \n",
      " 2   Gearbox           286983 non-null  object \n",
      " 3   Power             286983 non-null  float64\n",
      " 4   Model             286983 non-null  object \n",
      " 5   Kilometer         286983 non-null  int64  \n",
      " 6   FuelType          286983 non-null  object \n",
      " 7   Brand             286983 non-null  object \n",
      " 8   NotRepaired       286983 non-null  object \n",
      " 9   NumberOfPictures  286983 non-null  int64  \n",
      " 10  TotalMonths       286983 non-null  int64  \n",
      "dtypes: float64(1), int64(4), object(6)\n",
      "memory usage: 26.3+ MB\n",
      "None\n",
      "\n",
      "<class 'pandas.core.frame.DataFrame'>\n",
      "Int64Index: 286983 entries, 2 to 354368\n",
      "Data columns (total 11 columns):\n",
      " #   Column            Non-Null Count   Dtype   \n",
      "---  ------            --------------   -----   \n",
      " 0   Price             286983 non-null  int64   \n",
      " 1   VehicleType       286983 non-null  category\n",
      " 2   Gearbox           286983 non-null  category\n",
      " 3   Power             286983 non-null  float64 \n",
      " 4   Model             286983 non-null  category\n",
      " 5   Kilometer         286983 non-null  int64   \n",
      " 6   FuelType          286983 non-null  category\n",
      " 7   Brand             286983 non-null  category\n",
      " 8   NotRepaired       286983 non-null  category\n",
      " 9   NumberOfPictures  286983 non-null  int64   \n",
      " 10  TotalMonths       286983 non-null  int64   \n",
      "dtypes: category(6), float64(1), int64(4)\n",
      "memory usage: 15.1 MB\n",
      "None\n"
     ]
    }
   ],
   "source": [
    "import warnings\n",
    "warnings.filterwarnings('ignore')\n",
    "\n",
    "data_lgb = data\n",
    "print(data_lgb.info())\n",
    "for i in ['VehicleType','Gearbox','Model','FuelType','Brand','NotRepaired']:\n",
    "    data_lgb[i] = pd.Categorical(data_lgb[i])\n",
    "print()\n",
    "print(data_lgb.info())\n",
    "\n",
    "from sklearn.model_selection import train_test_split\n",
    "from sklearn.preprocessing import StandardScaler\n",
    "\n",
    "target_lgb = data_lgb['Price']\n",
    "features_lgb = data_lgb.drop('Price', axis=1)\n",
    "\n",
    "def split_data(features,target):\n",
    "    \"\"\"\n",
    "    Стандартизирует данные и делит их на тренировочную, валидационную и тестовую выборки\n",
    "    \"\"\"\n",
    "    features_trainvalid, features_test, target_trainvalid, target_test = train_test_split(features,target,\n",
    "                                                                                          test_size=0.2,random_state=1)\n",
    "    features_train, features_valid, target_train, target_valid = train_test_split(features_trainvalid,target_trainvalid,\n",
    "                                                                                  test_size=0.25, random_state=1)\n",
    "    numeric = ['Power','Kilometer','TotalMonths']\n",
    "    scaler = StandardScaler()\n",
    "    scaler.fit(features_train[numeric])\n",
    "    features_train[numeric] = scaler.transform(features_train[numeric])\n",
    "    features_valid[numeric] = scaler.transform(features_valid[numeric])\n",
    "    features_test[numeric] = scaler.transform(features_test[numeric])\n",
    "    return features_train, features_valid, features_test, target_train, target_valid, target_test\n",
    "\n",
    "features_train_lgb,features_valid_lgb,features_test_lgb,target_train_lgb,target_valid_lgb,target_test_lgb = split_data(features_lgb,target_lgb)"
   ]
  },
  {
   "cell_type": "markdown",
   "metadata": {},
   "source": [
    "Данные для библиотек LightGBM и sklearn будем подготавливать отдельно, так как LightBGM может работать с категориальным типом данных, в отличие от моделей из sklearn. Cоздадим копию исходной таблицы data_lgb, в которой присвоим всем данным типа object тип category. Затем стандартизируем данные и разделим их на тренировочную, валидационную и тестовую выборки."
   ]
  },
  {
   "cell_type": "code",
   "execution_count": 10,
   "metadata": {},
   "outputs": [
    {
     "name": "stdout",
     "output_type": "stream",
     "text": [
      "[10]\tvalid_0's rmse: 2574.19\n",
      "[20]\tvalid_0's rmse: 1976.05\n",
      "[30]\tvalid_0's rmse: 1782.52\n",
      "[40]\tvalid_0's rmse: 1706.38\n",
      "[50]\tvalid_0's rmse: 1672.01\n",
      "Время выполнения 0:00:00.661211 для глубины 5\n",
      "[10]\tvalid_0's rmse: 2387.68\n",
      "[20]\tvalid_0's rmse: 1798.71\n",
      "[30]\tvalid_0's rmse: 1644.49\n",
      "[40]\tvalid_0's rmse: 1588.27\n",
      "[50]\tvalid_0's rmse: 1565.42\n",
      "Время выполнения 0:00:00.882640 для глубины 7\n",
      "[10]\tvalid_0's rmse: 2289.12\n",
      "[20]\tvalid_0's rmse: 1703.57\n",
      "[30]\tvalid_0's rmse: 1568.47\n",
      "[40]\tvalid_0's rmse: 1524.8\n",
      "[50]\tvalid_0's rmse: 1505.78\n",
      "Время выполнения 0:00:01.402250 для глубины 9\n",
      "[10]\tvalid_0's rmse: 2238.74\n",
      "[20]\tvalid_0's rmse: 1655.36\n",
      "[30]\tvalid_0's rmse: 1531.39\n",
      "[40]\tvalid_0's rmse: 1497.09\n",
      "[50]\tvalid_0's rmse: 1483.72\n",
      "Время выполнения 0:00:02.626976 для глубины 11\n",
      "[10]\tvalid_0's rmse: 2219.51\n",
      "[20]\tvalid_0's rmse: 1634.22\n",
      "[30]\tvalid_0's rmse: 1515.09\n",
      "[40]\tvalid_0's rmse: 1483.89\n",
      "[50]\tvalid_0's rmse: 1474.44\n",
      "Время выполнения 0:00:04.569782 для глубины 13\n",
      "[10]\tvalid_0's rmse: 2211.15\n",
      "[20]\tvalid_0's rmse: 1627.12\n",
      "[30]\tvalid_0's rmse: 1510.6\n",
      "[40]\tvalid_0's rmse: 1480.62\n",
      "[50]\tvalid_0's rmse: 1470.85\n",
      "Время выполнения 0:00:08.697751 для глубины 15\n",
      "[10]\tvalid_0's rmse: 2208.16\n",
      "[20]\tvalid_0's rmse: 1623.51\n",
      "[30]\tvalid_0's rmse: 1507.47\n",
      "[40]\tvalid_0's rmse: 1477.78\n",
      "[50]\tvalid_0's rmse: 1469.24\n",
      "Время выполнения 0:00:39.977114 для глубины 17\n"
     ]
    }
   ],
   "source": [
    "from lightgbm import LGBMRegressor\n",
    "\n",
    "for i in range(5,18,2):\n",
    "    time_0 = datetime.datetime.now()\n",
    "    model = LGBMRegressor(num_iterations=50, verbose=-1, metric='rmse',\n",
    "                          max_depth=i, num_leaves=2**(i-1), random_state=1)\n",
    "    model.fit(features_train_lgb, target_train_lgb, eval_set=(features_valid_lgb, target_valid_lgb), verbose=10)\n",
    "    time_1 = datetime.datetime.now()\n",
    "    print(\"Время выполнения {}\".format((time_1-time_0)), \"для глубины\", i)"
   ]
  },
  {
   "cell_type": "markdown",
   "metadata": {},
   "source": [
    "Подберём гиперпараметры для модели регрессии на основе LIghtGBM на небольшом количестве итераций, начиная с max_depth (при этом num_leaves поставим равным 2^(max_depth-1) в соответствии с рекомендациями из документации LightBGM). Перебор значений показывает, что после max_depth = 13 rmse уменьшается незначительно, но резко возрастает время выполнения. В дальнейшем будем использовать max_depth = 13 и num_leaves = 4000 (примерно 2^12)."
   ]
  },
  {
   "cell_type": "code",
   "execution_count": 11,
   "metadata": {},
   "outputs": [
    {
     "name": "stdout",
     "output_type": "stream",
     "text": [
      "[10]\tvalid_0's rmse: 2219.51\n",
      "[20]\tvalid_0's rmse: 1634.22\n",
      "[30]\tvalid_0's rmse: 1515.09\n",
      "[40]\tvalid_0's rmse: 1483.89\n",
      "[50]\tvalid_0's rmse: 1474.44\n",
      "[60]\tvalid_0's rmse: 1470.44\n",
      "[70]\tvalid_0's rmse: 1467.8\n",
      "[80]\tvalid_0's rmse: 1466.27\n",
      "[90]\tvalid_0's rmse: 1465.01\n",
      "[100]\tvalid_0's rmse: 1464.45\n",
      "[110]\tvalid_0's rmse: 1462.89\n",
      "[120]\tvalid_0's rmse: 1461.83\n",
      "[130]\tvalid_0's rmse: 1461.1\n",
      "[140]\tvalid_0's rmse: 1459.79\n",
      "[150]\tvalid_0's rmse: 1459.4\n",
      "[160]\tvalid_0's rmse: 1458.94\n",
      "[170]\tvalid_0's rmse: 1458.74\n",
      "[180]\tvalid_0's rmse: 1458.44\n",
      "[190]\tvalid_0's rmse: 1458.22\n",
      "[200]\tvalid_0's rmse: 1458.3\n",
      "[210]\tvalid_0's rmse: 1458.03\n",
      "[220]\tvalid_0's rmse: 1458.01\n",
      "[230]\tvalid_0's rmse: 1458.03\n",
      "[240]\tvalid_0's rmse: 1457.93\n",
      "[250]\tvalid_0's rmse: 1457.83\n",
      "[260]\tvalid_0's rmse: 1457.65\n",
      "[270]\tvalid_0's rmse: 1457.45\n",
      "[280]\tvalid_0's rmse: 1457.36\n",
      "[290]\tvalid_0's rmse: 1457.38\n",
      "[300]\tvalid_0's rmse: 1457.35\n",
      "[310]\tvalid_0's rmse: 1457.1\n",
      "[320]\tvalid_0's rmse: 1457.41\n",
      "[330]\tvalid_0's rmse: 1457.28\n",
      "[340]\tvalid_0's rmse: 1457.36\n",
      "[350]\tvalid_0's rmse: 1457.53\n",
      "[360]\tvalid_0's rmse: 1457.54\n",
      "[370]\tvalid_0's rmse: 1457.69\n",
      "[380]\tvalid_0's rmse: 1457.65\n",
      "[390]\tvalid_0's rmse: 1457.8\n",
      "[400]\tvalid_0's rmse: 1457.83\n",
      "[410]\tvalid_0's rmse: 1457.92\n",
      "[420]\tvalid_0's rmse: 1458.28\n",
      "[430]\tvalid_0's rmse: 1458.59\n",
      "[440]\tvalid_0's rmse: 1458.95\n",
      "[450]\tvalid_0's rmse: 1459.2\n",
      "[460]\tvalid_0's rmse: 1459.49\n",
      "[470]\tvalid_0's rmse: 1459.78\n",
      "[480]\tvalid_0's rmse: 1459.79\n",
      "[490]\tvalid_0's rmse: 1459.85\n",
      "[500]\tvalid_0's rmse: 1460.14\n",
      "[510]\tvalid_0's rmse: 1460.44\n",
      "[520]\tvalid_0's rmse: 1460.61\n",
      "[530]\tvalid_0's rmse: 1460.65\n",
      "[540]\tvalid_0's rmse: 1460.96\n",
      "[550]\tvalid_0's rmse: 1461.14\n",
      "[560]\tvalid_0's rmse: 1461.46\n",
      "[570]\tvalid_0's rmse: 1461.95\n",
      "[580]\tvalid_0's rmse: 1462.31\n",
      "[590]\tvalid_0's rmse: 1462.43\n",
      "[600]\tvalid_0's rmse: 1462.68\n",
      "[610]\tvalid_0's rmse: 1462.69\n",
      "[620]\tvalid_0's rmse: 1462.74\n",
      "[630]\tvalid_0's rmse: 1462.95\n",
      "[640]\tvalid_0's rmse: 1463.19\n",
      "[650]\tvalid_0's rmse: 1463.26\n",
      "[660]\tvalid_0's rmse: 1463.37\n",
      "[670]\tvalid_0's rmse: 1463.56\n",
      "[680]\tvalid_0's rmse: 1463.87\n",
      "[690]\tvalid_0's rmse: 1464.01\n",
      "[700]\tvalid_0's rmse: 1464.49\n",
      "[710]\tvalid_0's rmse: 1464.8\n",
      "[720]\tvalid_0's rmse: 1465.17\n",
      "[730]\tvalid_0's rmse: 1465.22\n",
      "[740]\tvalid_0's rmse: 1465.41\n",
      "[750]\tvalid_0's rmse: 1465.61\n",
      "[760]\tvalid_0's rmse: 1465.76\n",
      "[770]\tvalid_0's rmse: 1465.97\n",
      "[780]\tvalid_0's rmse: 1466.26\n",
      "[790]\tvalid_0's rmse: 1466.45\n",
      "[800]\tvalid_0's rmse: 1466.71\n",
      "[810]\tvalid_0's rmse: 1467\n",
      "[820]\tvalid_0's rmse: 1467.19\n",
      "[830]\tvalid_0's rmse: 1467.41\n",
      "[840]\tvalid_0's rmse: 1467.72\n",
      "[850]\tvalid_0's rmse: 1468.16\n",
      "[860]\tvalid_0's rmse: 1468.3\n",
      "[870]\tvalid_0's rmse: 1468.42\n",
      "[880]\tvalid_0's rmse: 1468.54\n",
      "[890]\tvalid_0's rmse: 1468.81\n",
      "[900]\tvalid_0's rmse: 1468.89\n",
      "[910]\tvalid_0's rmse: 1469.13\n",
      "[920]\tvalid_0's rmse: 1469.39\n",
      "[930]\tvalid_0's rmse: 1469.65\n",
      "[940]\tvalid_0's rmse: 1469.82\n",
      "[950]\tvalid_0's rmse: 1470.11\n",
      "[960]\tvalid_0's rmse: 1470.15\n",
      "[970]\tvalid_0's rmse: 1470.38\n",
      "[980]\tvalid_0's rmse: 1470.63\n",
      "[990]\tvalid_0's rmse: 1470.95\n",
      "[1000]\tvalid_0's rmse: 1471.31\n"
     ]
    },
    {
     "data": {
      "text/plain": [
       "LGBMRegressor(boosting_type='gbdt', class_weight=None, colsample_bytree=1.0,\n",
       "              importance_type='split', learning_rate=0.1, max_depth=13,\n",
       "              metric='rmse', min_child_samples=20, min_child_weight=0.001,\n",
       "              min_split_gain=0.0, n_estimators=100, n_jobs=-1,\n",
       "              num_iterations=1000, num_leaves=4000, objective=None,\n",
       "              random_state=1, reg_alpha=0.0, reg_lambda=0.0, silent=True,\n",
       "              subsample=1.0, subsample_for_bin=200000, subsample_freq=0,\n",
       "              verbose=-1)"
      ]
     },
     "execution_count": 11,
     "metadata": {},
     "output_type": "execute_result"
    }
   ],
   "source": [
    "model = LGBMRegressor(num_iterations=1000, verbose=-1, metric='rmse',\n",
    "                      max_depth = 13, num_leaves = 4000, random_state=1)\n",
    "model.fit(features_train_lgb, target_train_lgb, eval_set=(features_valid_lgb, target_valid_lgb), verbose=10)"
   ]
  },
  {
   "cell_type": "markdown",
   "metadata": {},
   "source": [
    "Подберём необходимое количество итераций. RMSE остаётся приблизительно постоянным при 200-350 итерациях. Логично взять 230 итераций для модели, чтобы уменьшить время обучения. Таким образом, оптимальные параметры для регрессии с помощью LightBGM это 200 итераций, максимальная глубина 13, число листьев 4000."
   ]
  },
  {
   "cell_type": "markdown",
   "metadata": {},
   "source": [
    "### 2.2. Библиотека sklearn"
   ]
  },
  {
   "cell_type": "code",
   "execution_count": 12,
   "metadata": {},
   "outputs": [],
   "source": [
    "data_ohe = pd.get_dummies(data, drop_first=True)\n",
    "target = data_ohe['Price']\n",
    "features = data_ohe.drop('Price', axis=1)\n",
    "\n",
    "features_train,features_valid,features_test,target_train,target_valid,target_test = split_data(features,target)"
   ]
  },
  {
   "cell_type": "markdown",
   "metadata": {},
   "source": [
    "Закодируем данные с помощью дамми-ловушки и разделим на тренировочную, валидационную и тестовую выборку. Затем протестируем модели LinearRegression, DecisionTreeRegressor и RandomForestRegressor из библиотеки sklearn. Для моделей решающего дерева и случайного леса также подберём оптимальные гиперпараметры (максимальную глубину и число деревьев соответственно)."
   ]
  },
  {
   "cell_type": "code",
   "execution_count": 13,
   "metadata": {},
   "outputs": [
    {
     "name": "stdout",
     "output_type": "stream",
     "text": [
      "Для линейной регрессии rmse=2346; время обучения 0:00:03.399717; время предсказания 0:00:00.130650\n"
     ]
    }
   ],
   "source": [
    "from sklearn.linear_model import LinearRegression\n",
    "from sklearn.metrics import mean_squared_error as mse\n",
    "\n",
    "model_lr = LinearRegression()\n",
    "time_0 = datetime.datetime.now()\n",
    "model_lr.fit(features_train, target_train)\n",
    "time_1 = datetime.datetime.now()\n",
    "predicted_valid = model_lr.predict(features_valid)\n",
    "time_2 = datetime.datetime.now()\n",
    "rmse = mse(target_valid, predicted_valid)**0.5\n",
    "\n",
    "print(\"Для линейной регрессии rmse={:.0f};\".format(rmse),\n",
    "      \"время обучения {};\".format(time_1-time_0),\n",
    "      \"время предсказания {}\".format(time_2-time_1))"
   ]
  },
  {
   "cell_type": "code",
   "execution_count": 14,
   "metadata": {},
   "outputs": [
    {
     "name": "stdout",
     "output_type": "stream",
     "text": [
      "Для регрессии методом решающего дерева:\n",
      "При max_depth=5 rmse=2287; время обучения 0:00:02.537246; время предсказания 0:00:00.121652\n",
      "При max_depth=7 rmse=2101; время обучения 0:00:03.049811; время предсказания 0:00:00.130681\n",
      "При max_depth=9 rmse=1972; время обучения 0:00:04.032191; время предсказания 0:00:00.203452\n",
      "При max_depth=11 rmse=1884; время обучения 0:00:04.439131; время предсказания 0:00:00.123669\n",
      "При max_depth=13 rmse=1823; время обучения 0:00:04.698469; время предсказания 0:00:00.130620\n",
      "При max_depth=15 rmse=1803; время обучения 0:00:05.734705; время предсказания 0:00:00.168514\n",
      "При max_depth=17 rmse=1813; время обучения 0:00:05.381641; время предсказания 0:00:00.127659\n",
      "При max_depth=19 rmse=1816; время обучения 0:00:05.194114; время предсказания 0:00:00.122671\n"
     ]
    }
   ],
   "source": [
    "from sklearn.tree import DecisionTreeRegressor\n",
    "print(\"Для регрессии методом решающего дерева:\")\n",
    "\n",
    "for i in range(5,21,2):\n",
    "    model_dtr = DecisionTreeRegressor(max_depth=i,random_state=1)\n",
    "    time_0 = datetime.datetime.now()\n",
    "    model_dtr.fit(features_train, target_train)\n",
    "    time_1 = datetime.datetime.now()\n",
    "    predicted_valid = model_dtr.predict(features_valid)\n",
    "    time_2 = datetime.datetime.now()\n",
    "    rmse = mse(target_valid, predicted_valid)**0.5\n",
    "    print(\"При max_depth={}\".format(i),\n",
    "          \"rmse={:.0f};\".format(rmse), \"время обучения {};\".format(time_1-time_0),\n",
    "          \"время предсказания {}\".format(time_2-time_1))"
   ]
  },
  {
   "cell_type": "code",
   "execution_count": 15,
   "metadata": {},
   "outputs": [
    {
     "name": "stdout",
     "output_type": "stream",
     "text": [
      "Для регрессии методом случайного леса:\n",
      "При n_estimators=10 rmse=1640; время обучения 0:00:32.088205; время предсказания 0:00:00.254350\n",
      "При n_estimators=20 rmse=1623; время обучения 0:01:05.524110; время предсказания 0:00:00.305154\n",
      "При n_estimators=30 rmse=1619; время обучения 0:01:30.266689; время предсказания 0:00:00.410901\n"
     ]
    }
   ],
   "source": [
    "from sklearn.ensemble import RandomForestRegressor\n",
    "print(\"Для регрессии методом случайного леса:\")\n",
    "\n",
    "for i in range(10,31,10):\n",
    "    model_rfr = RandomForestRegressor(max_depth=15, n_estimators=i,random_state=1)\n",
    "    time_0 = datetime.datetime.now()\n",
    "    model_rfr.fit(features_train, target_train)\n",
    "    time_1 = datetime.datetime.now()\n",
    "    predicted_valid = model_rfr.predict(features_valid)\n",
    "    time_2 = datetime.datetime.now()\n",
    "    rmse = mse(target_valid, predicted_valid)**0.5\n",
    "    print(\"При n_estimators={}\".format(i),\n",
    "          \"rmse={:.0f};\".format(rmse), \"время обучения {};\".format(time_1-time_0),\n",
    "          \"время предсказания {}\".format(time_2-time_1))"
   ]
  },
  {
   "cell_type": "markdown",
   "metadata": {},
   "source": [
    "### Вывод"
   ]
  },
  {
   "cell_type": "markdown",
   "metadata": {},
   "source": [
    "Из всех протестированных моделей библиотеки sklearn ни одна ни даёт такой же результат, как и модель регрессии библиотеки lightGBM. Во всех случаях RMSE получается выше (2346 для линейной регрессии, 1803 у решающего дерева и 1619 у случайного леса), при этом минимальное время обучения моделей sklearn сопоставимо со временем обучения модели lightGBM. Таким образом, оптимальной для дальнейшего тестирования представляется логичным выбрать модель регрессии на основе градиентного бустинга. "
   ]
  },
  {
   "cell_type": "markdown",
   "metadata": {},
   "source": [
    "# 3. Анализ моделей"
   ]
  },
  {
   "cell_type": "code",
   "execution_count": 16,
   "metadata": {},
   "outputs": [],
   "source": [
    "model_lgbm = LGBMRegressor(num_iterations=200, verbose=-1, metric='rmse',\n",
    "                           max_depth=13, num_leaves=4000, random_state=1)\n",
    "\n",
    "features_trainvalid_lgb = pd.concat([features_train_lgb,features_valid_lgb], ignore_index=True)\n",
    "target_trainvalid_lgb = pd.concat([target_train_lgb,target_valid_lgb], ignore_index=True)\n",
    "\n",
    "del features_train_lgb\n",
    "del features_valid_lgb\n",
    "del target_train_lgb\n",
    "del target_valid_lgb\n",
    "del features_train\n",
    "del features_valid\n",
    "del target_train\n",
    "del target_valid"
   ]
  },
  {
   "cell_type": "code",
   "execution_count": 17,
   "metadata": {},
   "outputs": [
    {
     "name": "stdout",
     "output_type": "stream",
     "text": [
      "Для LightGBM rmse=1421; время обучения 0:00:08.628928; время предсказания 0:00:01.015286\n"
     ]
    }
   ],
   "source": [
    "time_0 = datetime.datetime.now()\n",
    "model_lgbm.fit(features_trainvalid_lgb, target_trainvalid_lgb)\n",
    "time_1 = datetime.datetime.now()\n",
    "predicted_test_lgb = model_lgbm.predict(features_test_lgb)\n",
    "time_2 = datetime.datetime.now()\n",
    "rmse = mse(target_test_lgb, predicted_test_lgb)**0.5\n",
    "\n",
    "print(\"Для LightGBM rmse={:.0f};\".format(rmse),\n",
    "      \"время обучения {};\".format(time_1-time_0),\n",
    "      \"время предсказания {}\".format(time_2-time_1))"
   ]
  },
  {
   "cell_type": "code",
   "execution_count": 18,
   "metadata": {},
   "outputs": [
    {
     "data": {
      "image/png": "[encoded data removed]",
      "text/plain": [
       "<Figure size 432x288 with 1 Axes>"
      ]
     },
     "metadata": {
      "needs_background": "light"
     },
     "output_type": "display_data"
    }
   ],
   "source": [
    "def feature_importances_plot(the_model,features,title,number):\n",
    "    \"\"\"\n",
    "    Строит график важности признаков\n",
    "    \"\"\"\n",
    "    importances = pd.DataFrame({'importance':the_model.feature_importances_},\n",
    "                               index=features.columns)\n",
    "    importances = importances.sort_values(by='importance', ascending=False)\n",
    "    importances['feature_percentage']=importances['importance']/importances['importance'].sum()\n",
    "    importances['feature_percentage'].head(number).plot.barh(title=title, grid=True)\n",
    "    plt.xlabel('График важности признаков')\n",
    "    plt.show()\n",
    "    \n",
    "feature_importances_plot(model_lgbm,features_trainvalid_lgb,'LightBGM',\n",
    "                         len(features_trainvalid_lgb))"
   ]
  },
  {
   "cell_type": "markdown",
   "metadata": {},
   "source": [
    "Обучим модель на объединённых тренировочной и валидационной выборках и протестируем на тестовой выборке, предварительно удалив все промежуточные переменные во избежание перегрузки кернела. Затем построим график важности признаков."
   ]
  },
  {
   "cell_type": "markdown",
   "metadata": {},
   "source": [
    "## Общий вывод"
   ]
  },
  {
   "cell_type": "markdown",
   "metadata": {},
   "source": [
    "Модель градиентного бустинга на основе LightGMB показывает наилучшую метрику RMSE, равную 1422, при этом время обучения модели составляет 9 секунд, а время предсказания 1 секунду. При этом важно отметить, что LightGBM строит предсказание преимущественно на основе сразу нескольких признаков, а именно, возраста автомобиля, мощности двигателя, километража и модели."
   ]
  }
 ],
 "metadata": {
  "kernelspec": {
   "display_name": "Python 3",
   "language": "python",
   "name": "python3"
  },
  "language_info": {
   "codemirror_mode": {
    "name": "ipython",
    "version": 3
   },
   "file_extension": ".py",
   "mimetype": "text/x-python",
   "name": "python",
   "nbconvert_exporter": "python",
   "pygments_lexer": "ipython3",
   "version": "3.7.6"
  }
 },
 "nbformat": 4,
 "nbformat_minor": 2
}
