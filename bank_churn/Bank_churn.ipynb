{
 "cells": [
  {
   "cell_type": "markdown",
   "metadata": {},
   "source": [
    "## План работы\n",
    "### 1. Подготовка данных\n",
    "Проверка данных на наличие пропусков, проверка формата данных.\n",
    "### 2. Исследование баланса классов\n",
    "Применение техник апсэмплинга, даунсэмплинга и взвешивания классов для борьбы с дисбалансом.\n",
    "### 3. Подбор гиперпараметров\n",
    "Подбор гиперпараметров для оптимальной модели, выбранной на предыдущем шаге, с помощью кросс-валидации.\n",
    "### 4. Тестирование модели\n",
    "Проверка оптимальной модели на тестовой выборке. Проверка модели на адекватность."
   ]
  },
  {
   "cell_type": "markdown",
   "metadata": {},
   "source": [
    "## Данные\n",
    "В наличии были следующие данные:\n",
    "- личные данные клиента (фамилия, пол, возраст, страна проживания)\n",
    "- кредитный рейтинг\n",
    "- количество недвижимости у клиента\n",
    "- баланс на счёте\n",
    "- количество продуктов банка, используемых клиентом\n",
    "- наличие кредитной карты\n",
    "- активность клиента\n",
    "- предполагаемая зарплата"
   ]
  },
  {
   "cell_type": "markdown",
   "metadata": {},
   "source": [
    "# 1. Подготовка данных"
   ]
  },
  {
   "cell_type": "code",
   "execution_count": 1,
   "metadata": {},
   "outputs": [
    {
     "data": {
      "text/html": [
       "<div>\n",
       "<style scoped>\n",
       "    .dataframe tbody tr th:only-of-type {\n",
       "        vertical-align: middle;\n",
       "    }\n",
       "\n",
       "    .dataframe tbody tr th {\n",
       "        vertical-align: top;\n",
       "    }\n",
       "\n",
       "    .dataframe thead th {\n",
       "        text-align: right;\n",
       "    }\n",
       "</style>\n",
       "<table border=\"1\" class=\"dataframe\">\n",
       "  <thead>\n",
       "    <tr style=\"text-align: right;\">\n",
       "      <th></th>\n",
       "      <th>RowNumber</th>\n",
       "      <th>CustomerId</th>\n",
       "      <th>Surname</th>\n",
       "      <th>CreditScore</th>\n",
       "      <th>Geography</th>\n",
       "      <th>Gender</th>\n",
       "      <th>Age</th>\n",
       "      <th>Tenure</th>\n",
       "      <th>Balance</th>\n",
       "      <th>NumOfProducts</th>\n",
       "      <th>HasCrCard</th>\n",
       "      <th>IsActiveMember</th>\n",
       "      <th>EstimatedSalary</th>\n",
       "      <th>Exited</th>\n",
       "    </tr>\n",
       "  </thead>\n",
       "  <tbody>\n",
       "    <tr>\n",
       "      <th>0</th>\n",
       "      <td>1</td>\n",
       "      <td>15634602</td>\n",
       "      <td>Hargrave</td>\n",
       "      <td>619</td>\n",
       "      <td>France</td>\n",
       "      <td>Female</td>\n",
       "      <td>42</td>\n",
       "      <td>2.0</td>\n",
       "      <td>0.00</td>\n",
       "      <td>1</td>\n",
       "      <td>1</td>\n",
       "      <td>1</td>\n",
       "      <td>101348.88</td>\n",
       "      <td>1</td>\n",
       "    </tr>\n",
       "    <tr>\n",
       "      <th>1</th>\n",
       "      <td>2</td>\n",
       "      <td>15647311</td>\n",
       "      <td>Hill</td>\n",
       "      <td>608</td>\n",
       "      <td>Spain</td>\n",
       "      <td>Female</td>\n",
       "      <td>41</td>\n",
       "      <td>1.0</td>\n",
       "      <td>83807.86</td>\n",
       "      <td>1</td>\n",
       "      <td>0</td>\n",
       "      <td>1</td>\n",
       "      <td>112542.58</td>\n",
       "      <td>0</td>\n",
       "    </tr>\n",
       "    <tr>\n",
       "      <th>2</th>\n",
       "      <td>3</td>\n",
       "      <td>15619304</td>\n",
       "      <td>Onio</td>\n",
       "      <td>502</td>\n",
       "      <td>France</td>\n",
       "      <td>Female</td>\n",
       "      <td>42</td>\n",
       "      <td>8.0</td>\n",
       "      <td>159660.80</td>\n",
       "      <td>3</td>\n",
       "      <td>1</td>\n",
       "      <td>0</td>\n",
       "      <td>113931.57</td>\n",
       "      <td>1</td>\n",
       "    </tr>\n",
       "    <tr>\n",
       "      <th>3</th>\n",
       "      <td>4</td>\n",
       "      <td>15701354</td>\n",
       "      <td>Boni</td>\n",
       "      <td>699</td>\n",
       "      <td>France</td>\n",
       "      <td>Female</td>\n",
       "      <td>39</td>\n",
       "      <td>1.0</td>\n",
       "      <td>0.00</td>\n",
       "      <td>2</td>\n",
       "      <td>0</td>\n",
       "      <td>0</td>\n",
       "      <td>93826.63</td>\n",
       "      <td>0</td>\n",
       "    </tr>\n",
       "    <tr>\n",
       "      <th>4</th>\n",
       "      <td>5</td>\n",
       "      <td>15737888</td>\n",
       "      <td>Mitchell</td>\n",
       "      <td>850</td>\n",
       "      <td>Spain</td>\n",
       "      <td>Female</td>\n",
       "      <td>43</td>\n",
       "      <td>2.0</td>\n",
       "      <td>125510.82</td>\n",
       "      <td>1</td>\n",
       "      <td>1</td>\n",
       "      <td>1</td>\n",
       "      <td>79084.10</td>\n",
       "      <td>0</td>\n",
       "    </tr>\n",
       "    <tr>\n",
       "      <th>...</th>\n",
       "      <td>...</td>\n",
       "      <td>...</td>\n",
       "      <td>...</td>\n",
       "      <td>...</td>\n",
       "      <td>...</td>\n",
       "      <td>...</td>\n",
       "      <td>...</td>\n",
       "      <td>...</td>\n",
       "      <td>...</td>\n",
       "      <td>...</td>\n",
       "      <td>...</td>\n",
       "      <td>...</td>\n",
       "      <td>...</td>\n",
       "      <td>...</td>\n",
       "    </tr>\n",
       "    <tr>\n",
       "      <th>9995</th>\n",
       "      <td>9996</td>\n",
       "      <td>15606229</td>\n",
       "      <td>Obijiaku</td>\n",
       "      <td>771</td>\n",
       "      <td>France</td>\n",
       "      <td>Male</td>\n",
       "      <td>39</td>\n",
       "      <td>5.0</td>\n",
       "      <td>0.00</td>\n",
       "      <td>2</td>\n",
       "      <td>1</td>\n",
       "      <td>0</td>\n",
       "      <td>96270.64</td>\n",
       "      <td>0</td>\n",
       "    </tr>\n",
       "    <tr>\n",
       "      <th>9996</th>\n",
       "      <td>9997</td>\n",
       "      <td>15569892</td>\n",
       "      <td>Johnstone</td>\n",
       "      <td>516</td>\n",
       "      <td>France</td>\n",
       "      <td>Male</td>\n",
       "      <td>35</td>\n",
       "      <td>10.0</td>\n",
       "      <td>57369.61</td>\n",
       "      <td>1</td>\n",
       "      <td>1</td>\n",
       "      <td>1</td>\n",
       "      <td>101699.77</td>\n",
       "      <td>0</td>\n",
       "    </tr>\n",
       "    <tr>\n",
       "      <th>9997</th>\n",
       "      <td>9998</td>\n",
       "      <td>15584532</td>\n",
       "      <td>Liu</td>\n",
       "      <td>709</td>\n",
       "      <td>France</td>\n",
       "      <td>Female</td>\n",
       "      <td>36</td>\n",
       "      <td>7.0</td>\n",
       "      <td>0.00</td>\n",
       "      <td>1</td>\n",
       "      <td>0</td>\n",
       "      <td>1</td>\n",
       "      <td>42085.58</td>\n",
       "      <td>1</td>\n",
       "    </tr>\n",
       "    <tr>\n",
       "      <th>9998</th>\n",
       "      <td>9999</td>\n",
       "      <td>15682355</td>\n",
       "      <td>Sabbatini</td>\n",
       "      <td>772</td>\n",
       "      <td>Germany</td>\n",
       "      <td>Male</td>\n",
       "      <td>42</td>\n",
       "      <td>3.0</td>\n",
       "      <td>75075.31</td>\n",
       "      <td>2</td>\n",
       "      <td>1</td>\n",
       "      <td>0</td>\n",
       "      <td>92888.52</td>\n",
       "      <td>1</td>\n",
       "    </tr>\n",
       "    <tr>\n",
       "      <th>9999</th>\n",
       "      <td>10000</td>\n",
       "      <td>15628319</td>\n",
       "      <td>Walker</td>\n",
       "      <td>792</td>\n",
       "      <td>France</td>\n",
       "      <td>Female</td>\n",
       "      <td>28</td>\n",
       "      <td>NaN</td>\n",
       "      <td>130142.79</td>\n",
       "      <td>1</td>\n",
       "      <td>1</td>\n",
       "      <td>0</td>\n",
       "      <td>38190.78</td>\n",
       "      <td>0</td>\n",
       "    </tr>\n",
       "  </tbody>\n",
       "</table>\n",
       "<p>10000 rows × 14 columns</p>\n",
       "</div>"
      ],
      "text/plain": [
       "      RowNumber  CustomerId    Surname  CreditScore Geography  Gender  Age  \\\n",
       "0             1    15634602   Hargrave          619    France  Female   42   \n",
       "1             2    15647311       Hill          608     Spain  Female   41   \n",
       "2             3    15619304       Onio          502    France  Female   42   \n",
       "3             4    15701354       Boni          699    France  Female   39   \n",
       "4             5    15737888   Mitchell          850     Spain  Female   43   \n",
       "...         ...         ...        ...          ...       ...     ...  ...   \n",
       "9995       9996    15606229   Obijiaku          771    France    Male   39   \n",
       "9996       9997    15569892  Johnstone          516    France    Male   35   \n",
       "9997       9998    15584532        Liu          709    France  Female   36   \n",
       "9998       9999    15682355  Sabbatini          772   Germany    Male   42   \n",
       "9999      10000    15628319     Walker          792    France  Female   28   \n",
       "\n",
       "      Tenure    Balance  NumOfProducts  HasCrCard  IsActiveMember  \\\n",
       "0        2.0       0.00              1          1               1   \n",
       "1        1.0   83807.86              1          0               1   \n",
       "2        8.0  159660.80              3          1               0   \n",
       "3        1.0       0.00              2          0               0   \n",
       "4        2.0  125510.82              1          1               1   \n",
       "...      ...        ...            ...        ...             ...   \n",
       "9995     5.0       0.00              2          1               0   \n",
       "9996    10.0   57369.61              1          1               1   \n",
       "9997     7.0       0.00              1          0               1   \n",
       "9998     3.0   75075.31              2          1               0   \n",
       "9999     NaN  130142.79              1          1               0   \n",
       "\n",
       "      EstimatedSalary  Exited  \n",
       "0           101348.88       1  \n",
       "1           112542.58       0  \n",
       "2           113931.57       1  \n",
       "3            93826.63       0  \n",
       "4            79084.10       0  \n",
       "...               ...     ...  \n",
       "9995         96270.64       0  \n",
       "9996        101699.77       0  \n",
       "9997         42085.58       1  \n",
       "9998         92888.52       1  \n",
       "9999         38190.78       0  \n",
       "\n",
       "[10000 rows x 14 columns]"
      ]
     },
     "metadata": {},
     "output_type": "display_data"
    },
    {
     "name": "stdout",
     "output_type": "stream",
     "text": [
      "<class 'pandas.core.frame.DataFrame'>\n",
      "RangeIndex: 10000 entries, 0 to 9999\n",
      "Data columns (total 14 columns):\n",
      " #   Column           Non-Null Count  Dtype  \n",
      "---  ------           --------------  -----  \n",
      " 0   RowNumber        10000 non-null  int64  \n",
      " 1   CustomerId       10000 non-null  int64  \n",
      " 2   Surname          10000 non-null  object \n",
      " 3   CreditScore      10000 non-null  int64  \n",
      " 4   Geography        10000 non-null  object \n",
      " 5   Gender           10000 non-null  object \n",
      " 6   Age              10000 non-null  int64  \n",
      " 7   Tenure           9091 non-null   float64\n",
      " 8   Balance          10000 non-null  float64\n",
      " 9   NumOfProducts    10000 non-null  int64  \n",
      " 10  HasCrCard        10000 non-null  int64  \n",
      " 11  IsActiveMember   10000 non-null  int64  \n",
      " 12  EstimatedSalary  10000 non-null  float64\n",
      " 13  Exited           10000 non-null  int64  \n",
      "dtypes: float64(3), int64(8), object(3)\n",
      "memory usage: 1.1+ MB\n",
      "None\n"
     ]
    }
   ],
   "source": [
    "import pandas as pd\n",
    "import numpy as np\n",
    "import matplotlib.pyplot as plt\n",
    "import warnings\n",
    "warnings.filterwarnings(\"ignore\")\n",
    "\n",
    "data = pd.read_csv('../bank/Bank.csv')\n",
    "display(data)\n",
    "print(data.info())"
   ]
  },
  {
   "cell_type": "code",
   "execution_count": 2,
   "metadata": {},
   "outputs": [
    {
     "name": "stdout",
     "output_type": "stream",
     "text": [
      "France     5014\n",
      "Germany    2509\n",
      "Spain      2477\n",
      "Name: Geography, dtype: int64\n",
      "2932\n"
     ]
    }
   ],
   "source": [
    "print(data['Geography'].value_counts())\n",
    "print(len(data['Surname'].value_counts()))\n",
    "data['Tenure'] = data['Tenure'].fillna(0)\n",
    "data = data.drop(['RowNumber','CustomerId','Surname'], axis=1)"
   ]
  },
  {
   "cell_type": "markdown",
   "metadata": {},
   "source": [
    "В столбце 'Tenure' присутствует много пропусков, заполним их нолями (вероятнее всего, отсутствие данных по количеству недвижисмости означает отсутствие недвижимости). Столбцы 'RowNumber','CustomerId' и 'Surname' не представляют интереса при расчёте вероятности оттока клиента. В столбце 'Geography' всего три возможных значения, следовательно, этот столбец можно учитывать при прогнозировании, предварительно обработав техникой прямого кодирования."
   ]
  },
  {
   "cell_type": "code",
   "execution_count": 3,
   "metadata": {},
   "outputs": [],
   "source": [
    "from sklearn.model_selection import train_test_split\n",
    "from sklearn.preprocessing import StandardScaler\n",
    "\n",
    "data_ohe = pd.get_dummies(data, drop_first=True)\n",
    "target = data_ohe['Exited']\n",
    "features = data_ohe.drop('Exited', axis=1)\n",
    "\n",
    "features_trainvalid, features_test, target_trainvalid, target_test = train_test_split(features,target,test_size=0.2, random_state=12345)\n",
    "features_train, features_valid, target_train, target_valid = train_test_split(features_trainvalid,target_trainvalid,test_size=0.25, random_state=12345)\n",
    "\n",
    "numeric = ['CreditScore','Age','Balance', 'Tenure', 'NumOfProducts', 'EstimatedSalary']\n",
    "\n",
    "scaler = StandardScaler()\n",
    "scaler.fit(features_train[numeric])\n",
    "features_train[numeric] = scaler.transform(features_train[numeric])\n",
    "features_valid[numeric] = scaler.transform(features_valid[numeric])\n",
    "features_trainvalid[numeric] = scaler.transform(features_trainvalid[numeric])\n",
    "features_test[numeric] = scaler.transform(features_test[numeric])"
   ]
  },
  {
   "cell_type": "markdown",
   "metadata": {},
   "source": [
    "Обработаем данные техникой прямого кодирования. Разделим выборку на тестовую, тренировочную и валидационную в соотношении 1 к 3 к 1. Стандартизируем данные в столбцах 'CreditScore', 'Age', 'Balance', 'Tenure', 'NumOfProducts' и 'EstimatedSalary' с помощью структуры StandardScaler."
   ]
  },
  {
   "cell_type": "markdown",
   "metadata": {},
   "source": [
    "# 2. Исследование баланса классов"
   ]
  },
  {
   "cell_type": "code",
   "execution_count": 4,
   "metadata": {},
   "outputs": [
    {
     "name": "stdout",
     "output_type": "stream",
     "text": [
      "0    7963\n",
      "1    2037\n",
      "Name: Exited, dtype: int64\n",
      "Accuracy для модели логистической регрессии равна 0.816 , F1 равно 0.31 , AUC-ROC равно 0.77\n",
      "Accuracy для константной модели равна 0.7963\n"
     ]
    }
   ],
   "source": [
    "from sklearn.linear_model import LogisticRegression\n",
    "from sklearn.metrics import accuracy_score\n",
    "from sklearn.metrics import f1_score\n",
    "from sklearn.metrics import roc_auc_score\n",
    "\n",
    "print(data['Exited'].value_counts())\n",
    "model = LogisticRegression(random_state=12345, solver='liblinear')\n",
    "model.fit(features_train, target_train)\n",
    "predicted_valid = model.predict(features_valid)\n",
    "probabilities_valid = model.predict_proba(features_valid)\n",
    "probabilities_one_valid = probabilities_valid[:, 1]\n",
    "auc_roc = roc_auc_score(target_valid, probabilities_one_valid)\n",
    "print(\"Accuracy для модели логистической регрессии равна\", accuracy_score(target_valid,predicted_valid),\n",
    "      \", F1 равно {:.2f}\".format(f1_score(target_valid, predicted_valid)),\n",
    "      \", AUC-ROC равно {:.2f}\".format(auc_roc))\n",
    "\n",
    "target_predicted_constant = pd.Series([0]*len(data))\n",
    "print(\"Accuracy для константной модели равна\", accuracy_score(target,target_predicted_constant))"
   ]
  },
  {
   "cell_type": "markdown",
   "metadata": {},
   "source": [
    "Класс 0 встречается примерно в 80% случаев, класс 1 - в 20%. Создадим модель логистической регрессии, обучим её на тренировочной выборке и протестируем на валидационной. Получим значение F1-меры 0.31 и AUC-ROC 0.77. Затем сравним её эффективность с константной моделью (которая будет всегда предсказывать наиболее частотный класс 0), используя метрику accuracy. Получим, что отличие обученной модели от константной практически отсутствует. Это означает, что может быть необходимо учесть дисбаланс классов."
   ]
  },
  {
   "cell_type": "code",
   "execution_count": 5,
   "metadata": {},
   "outputs": [
    {
     "name": "stdout",
     "output_type": "stream",
     "text": [
      "Логистическая регрессия, взвешивание классов\n",
      "F1 равно 0.48 , AUC-ROC равно 0.77\n"
     ]
    },
    {
     "data": {
      "image/png": "[encoded data removed]",
      "text/plain": [
       "<Figure size 432x288 with 1 Axes>"
      ]
     },
     "metadata": {
      "needs_background": "light"
     },
     "output_type": "display_data"
    }
   ],
   "source": [
    "from sklearn.metrics import roc_curve\n",
    "from sklearn.tree import DecisionTreeClassifier\n",
    "metrics_lr=[] \n",
    "metrics_dt=[]\n",
    "\n",
    "def show_metrics(model):\n",
    "    \"\"\"\n",
    "    Выводит на экран F1-меру, ROC-AUC и график ROC-кривой\n",
    "    \"\"\"\n",
    "    model.fit(features_train, target_train)\n",
    "    predicted_valid = model.predict(features_valid)\n",
    "    probabilities = model.predict_proba(features_test)[:, 1]\n",
    "    f1score = f1_score(target_valid, predicted_valid)\n",
    "    auc_roc = roc_auc_score(target_test,probabilities)\n",
    "    \n",
    "    \n",
    "    probabilities_valid = model.predict_proba(features_valid)\n",
    "    probabilities_one_valid = probabilities_valid[:, 1]\n",
    "    auc_roc = roc_auc_score(target_valid, probabilities_one_valid)\n",
    "    \n",
    "    fpr, tpr, thresholds = roc_curve(target_valid, probabilities_one_valid)\n",
    "    plt.figure()\n",
    "    plt.plot(fpr, tpr)\n",
    "    plt.xlim([0.0, 1.0])\n",
    "    plt.ylim([0.0, 1.0])\n",
    "    plt.xlabel('False Positive Rate')\n",
    "    plt.ylabel('True Positive Rate')\n",
    "    plt.title('ROC-кривая')\n",
    "    plt.plot([0, 1], [0, 1], linestyle='--')\n",
    "    \n",
    "    return f1score, auc_roc\n",
    "\n",
    "model = LogisticRegression(random_state=12345, solver='liblinear', class_weight='balanced')\n",
    "print(\"Логистическая регрессия, взвешивание классов\")\n",
    "f1score, auc_roc = show_metrics(model)\n",
    "metrics_lr.append([f1score, auc_roc])\n",
    "\n",
    "print(\"F1 равно {:.2f}\".format(f1score),\n",
    "      \", AUC-ROC равно {:.2f}\".format(auc_roc))"
   ]
  },
  {
   "cell_type": "code",
   "execution_count": 6,
   "metadata": {},
   "outputs": [
    {
     "name": "stdout",
     "output_type": "stream",
     "text": [
      "Дерево решений, взвешивание классов\n",
      "F1 равно 0.55 , AUC-ROC равно 0.82\n"
     ]
    },
    {
     "data": {
      "image/png": "[encoded data removed]",
      "text/plain": [
       "<Figure size 432x288 with 1 Axes>"
      ]
     },
     "metadata": {
      "needs_background": "light"
     },
     "output_type": "display_data"
    }
   ],
   "source": [
    "model = DecisionTreeClassifier(random_state=12345, max_depth=5, class_weight='balanced')\n",
    "f1score, auc_roc = show_metrics(model)\n",
    "metrics_dt.append([f1score, auc_roc])\n",
    "print(\"Дерево решений, взвешивание классов\")\n",
    "print(\"F1 равно {:.2f}\".format(f1score),\n",
    "      \", AUC-ROC равно {:.2f}\".format(auc_roc))"
   ]
  },
  {
   "cell_type": "markdown",
   "metadata": {},
   "source": [
    "Опробуем несколько способов борьбы с дисбалансом на моделях логистической регрессии и дерева решений. Если проводить взвешивание классов, то для логистической регрессии значение F1-меры составляет 0.48, для дерева решений - 0.55. Отметим, что значение метрики AUC-ROC довольно близко к единице во втором случае. Тем не менее, так как классы сильно несбалансированы, ROC-AUC может давать неадекватные результаты. По этой причине F1-меру использовать предпочтительнее."
   ]
  },
  {
   "cell_type": "code",
   "execution_count": 7,
   "metadata": {},
   "outputs": [
    {
     "name": "stdout",
     "output_type": "stream",
     "text": [
      "Логистическая регрессия, апсэмплинг\n",
      "F1 равно 0.48 , AUC-ROC равно 0.77\n"
     ]
    }
   ],
   "source": [
    "from sklearn.utils import shuffle\n",
    "def upsample(features, target, repeat):\n",
    "    \"\"\"\n",
    "    функция для реализации апсэмплинга\n",
    "    \"\"\"\n",
    "    features_zeros = features[target == 0]\n",
    "    features_ones = features[target == 1]\n",
    "    target_zeros = target[target == 0]\n",
    "    target_ones = target[target == 1]\n",
    "\n",
    "    features_upsampled = pd.concat([features_zeros] + [features_ones] * repeat)\n",
    "    target_upsampled = pd.concat([target_zeros] + [target_ones] * repeat)\n",
    "    \n",
    "    features_upsampled, target_upsampled = shuffle(\n",
    "        features_upsampled, target_upsampled, random_state=12345)\n",
    "    \n",
    "    return features_upsampled, target_upsampled\n",
    "\n",
    "features_upsampled, target_upsampled = upsample(features_train, target_train, 4)\n",
    "\n",
    "model = LogisticRegression(random_state=12345, solver='liblinear')\n",
    "model.fit(features_upsampled, target_upsampled)\n",
    "predicted_valid = model.predict(features_valid)\n",
    "f1score=f1_score(target_valid, predicted_valid)\n",
    "\n",
    "probabilities_valid = model.predict_proba(features_valid)\n",
    "probabilities_one_valid = probabilities_valid[:, 1]\n",
    "auc_roc = roc_auc_score(target_valid, probabilities_one_valid)\n",
    "\n",
    "metrics_lr.append([f1score, auc_roc])\n",
    "print(\"Логистическая регрессия, апсэмплинг\")\n",
    "print(\"F1 равно {:.2f}\".format(f1score),\n",
    "      \", AUC-ROC равно {:.2f}\".format(auc_roc))"
   ]
  },
  {
   "cell_type": "code",
   "execution_count": 8,
   "metadata": {},
   "outputs": [
    {
     "name": "stdout",
     "output_type": "stream",
     "text": [
      "Дерево решений, апсэмплинг\n",
      "F1 равно 0.55 , AUC-ROC равно 0.82\n"
     ]
    }
   ],
   "source": [
    "model = DecisionTreeClassifier(random_state=12345, max_depth=5)\n",
    "model.fit(features_upsampled, target_upsampled)\n",
    "predicted_valid = model.predict(features_valid)\n",
    "\n",
    "f1score=f1_score(target_valid, predicted_valid)\n",
    "\n",
    "probabilities_valid = model.predict_proba(features_valid)\n",
    "probabilities_one_valid = probabilities_valid[:, 1]\n",
    "auc_roc = roc_auc_score(target_valid, probabilities_one_valid)\n",
    "\n",
    "metrics_dt.append([f1score, auc_roc])\n",
    "print(\"Дерево решений, апсэмплинг\")\n",
    "print(\"F1 равно {:.2f}\".format(f1score),\n",
    "      \", AUC-ROC равно {:.2f}\".format(auc_roc))"
   ]
  },
  {
   "cell_type": "markdown",
   "metadata": {},
   "source": [
    "Реализуем апсэмплинг с помощью функции upsample, увеличив количество объектов класса 1 в 4 раза (так как соотношение классов 0 и 1 примерно 4:1). Полученные значения f1-меры не отличаются от тех, что были получены при взвешивании классов."
   ]
  },
  {
   "cell_type": "code",
   "execution_count": 9,
   "metadata": {},
   "outputs": [
    {
     "name": "stdout",
     "output_type": "stream",
     "text": [
      "Логистическая регрессия, даунсэмплинг\n",
      "F1 равно 0.49 , AUC-ROC равно 0.77\n"
     ]
    }
   ],
   "source": [
    "def downsample(features, target, fraction):\n",
    "    \"\"\"\n",
    "    функция для реализации даунсэмплинга\n",
    "    \"\"\"\n",
    "    features_zeros = features[target == 0]\n",
    "    features_ones = features[target == 1]\n",
    "    target_zeros = target[target == 0]\n",
    "    target_ones = target[target == 1]\n",
    "\n",
    "    features_downsampled = pd.concat(\n",
    "        [features_zeros.sample(frac=fraction, random_state=12345)] + [features_ones])\n",
    "    target_downsampled = pd.concat(\n",
    "        [target_zeros.sample(frac=fraction, random_state=12345)] + [target_ones])\n",
    "    \n",
    "    features_downsampled, target_downsampled = shuffle(\n",
    "        features_downsampled, target_downsampled, random_state=12345)\n",
    "    \n",
    "    return features_downsampled, target_downsampled\n",
    "\n",
    "features_downsampled, target_downsampled = downsample(features_train, target_train, 0.3)\n",
    "\n",
    "model = LogisticRegression(random_state=12345, solver='liblinear')\n",
    "model.fit(features_downsampled, target_downsampled)\n",
    "predicted_valid = model.predict(features_valid)\n",
    "f1score=f1_score(target_valid, predicted_valid)\n",
    "\n",
    "probabilities_valid = model.predict_proba(features_valid)\n",
    "probabilities_one_valid = probabilities_valid[:, 1]\n",
    "auc_roc = roc_auc_score(target_valid, probabilities_one_valid)\n",
    "\n",
    "metrics_lr.append([f1score, auc_roc])\n",
    "print(\"Логистическая регрессия, даунсэмплинг\")\n",
    "print(\"F1 равно {:.2f}\".format(f1score),\n",
    "      \", AUC-ROC равно {:.2f}\".format(auc_roc))"
   ]
  },
  {
   "cell_type": "code",
   "execution_count": 10,
   "metadata": {},
   "outputs": [
    {
     "name": "stdout",
     "output_type": "stream",
     "text": [
      "Дерево решений, даунсэмплинг\n",
      "F1 равно 0.56 , AUC-ROC равно 0.83\n"
     ]
    }
   ],
   "source": [
    "model = DecisionTreeClassifier(random_state=12345, max_depth=5)\n",
    "model.fit(features_downsampled, target_downsampled)\n",
    "predicted_valid = model.predict(features_valid)\n",
    "f1score=f1_score(target_valid, predicted_valid)\n",
    "\n",
    "probabilities_valid = model.predict_proba(features_valid)\n",
    "probabilities_one_valid = probabilities_valid[:, 1]\n",
    "auc_roc = roc_auc_score(target_valid, probabilities_one_valid)\n",
    "\n",
    "metrics_dt.append([f1score, auc_roc])\n",
    "print(\"Дерево решений, даунсэмплинг\")\n",
    "print(\"F1 равно {:.2f}\".format(f1score),\n",
    "      \", AUC-ROC равно {:.2f}\".format(auc_roc))"
   ]
  },
  {
   "cell_type": "markdown",
   "metadata": {},
   "source": [
    "Реализуем апсэмплинг с помощью функции downsample, взяв 75 % данных класса 0. В этом случае немного возрастает значение f1-меры как для логистической регрессии, так и для дерева решений."
   ]
  },
  {
   "cell_type": "code",
   "execution_count": 11,
   "metadata": {},
   "outputs": [
    {
     "data": {
      "text/html": [
       "<div>\n",
       "<style scoped>\n",
       "    .dataframe tbody tr th:only-of-type {\n",
       "        vertical-align: middle;\n",
       "    }\n",
       "\n",
       "    .dataframe tbody tr th {\n",
       "        vertical-align: top;\n",
       "    }\n",
       "\n",
       "    .dataframe thead th {\n",
       "        text-align: right;\n",
       "    }\n",
       "</style>\n",
       "<table border=\"1\" class=\"dataframe\">\n",
       "  <thead>\n",
       "    <tr style=\"text-align: right;\">\n",
       "      <th></th>\n",
       "      <th>f1 для LR</th>\n",
       "      <th>auc-roc для LR</th>\n",
       "      <th>f1 для DT</th>\n",
       "      <th>auc-roc для DT</th>\n",
       "    </tr>\n",
       "  </thead>\n",
       "  <tbody>\n",
       "    <tr>\n",
       "      <th>Взвешивание</th>\n",
       "      <td>0.477639</td>\n",
       "      <td>0.772963</td>\n",
       "      <td>0.548908</td>\n",
       "      <td>0.818801</td>\n",
       "    </tr>\n",
       "    <tr>\n",
       "      <th>Upsampling</th>\n",
       "      <td>0.479222</td>\n",
       "      <td>0.772957</td>\n",
       "      <td>0.548908</td>\n",
       "      <td>0.818801</td>\n",
       "    </tr>\n",
       "    <tr>\n",
       "      <th>Downsampling</th>\n",
       "      <td>0.488327</td>\n",
       "      <td>0.773401</td>\n",
       "      <td>0.556818</td>\n",
       "      <td>0.828581</td>\n",
       "    </tr>\n",
       "  </tbody>\n",
       "</table>\n",
       "</div>"
      ],
      "text/plain": [
       "              f1 для LR  auc-roc для LR  f1 для DT  auc-roc для DT\n",
       "Взвешивание    0.477639        0.772963   0.548908        0.818801\n",
       "Upsampling     0.479222        0.772957   0.548908        0.818801\n",
       "Downsampling   0.488327        0.773401   0.556818        0.828581"
      ]
     },
     "metadata": {},
     "output_type": "display_data"
    }
   ],
   "source": [
    "metrics_lr1 = pd.DataFrame(metrics_lr)\n",
    "metrics_dt1 = pd.DataFrame(metrics_dt)\n",
    "metrics = pd.concat((metrics_lr1, metrics_dt1), axis = 1)\n",
    "metrics.columns =['f1 для LR','auc-roc для LR','f1 для DT','auc-roc для DT']\n",
    "metrics.index = [\"Взвешивание\",\"Upsampling\",\"Downsampling\"]\n",
    "display(metrics)"
   ]
  },
  {
   "cell_type": "markdown",
   "metadata": {},
   "source": [
    "Модель логистической регрессии во всех случаях показывала худшие результаты, чем дерево решений. Однако все техники борьбы с дисбалансом дали увеличение f1-меры по сравнению с моделью, натренированной на несбалансированных данных. Лучшие результаты (f1-мера 0.56) показала модель дерева решений на данных, к которым предварительно была применён даунсэмплинг."
   ]
  },
  {
   "cell_type": "markdown",
   "metadata": {},
   "source": [
    "## Вывод"
   ]
  },
  {
   "cell_type": "markdown",
   "metadata": {},
   "source": [
    "Были исследованы разные техники борьбы с дисбалансом на моделях логистической регрессии и дерева решений. Во всех случаях дерево решений показывало более высокие значения f1-меры, лучший результат (f1-мера 0.56) был получен на данных, к которым был предварительно применён даунсэмплинг."
   ]
  },
  {
   "cell_type": "markdown",
   "metadata": {},
   "source": [
    "## 3. Подбор гиперпараметров"
   ]
  },
  {
   "cell_type": "code",
   "execution_count": 12,
   "metadata": {},
   "outputs": [
    {
     "name": "stdout",
     "output_type": "stream",
     "text": [
      "Для модели случайного леса с max_depth = 8 и n_estimators = 40 значение f1-меры равно 0.59\n"
     ]
    }
   ],
   "source": [
    "from sklearn.model_selection import KFold\n",
    "from sklearn.ensemble import RandomForestClassifier\n",
    "\n",
    "def rf_cross_validation(f_data, t_data, n, depth, estimators):\n",
    "    \"\"\"\n",
    "    функция для определения лучших параметров случайного леса\n",
    "    с помощью кросс-валидации,принимает на вход признаки,\n",
    "    целевые признаки и число фолдов, возвращает максимальное\n",
    "    значение f1-меры и оптимальные параметры (max_depth,n_estimators)\n",
    "    \"\"\"\n",
    "    kf = KFold(n_splits=n, random_state=12345, shuffle=True)\n",
    "    array=[]\n",
    "    f_data=f_data.reset_index(drop=True)\n",
    "    t_data=t_data.reset_index(drop=True)\n",
    "    model = RandomForestClassifier(max_depth=depth, n_estimators=estimators, random_state=12345)\n",
    "    \n",
    "    for train_index, test_index in kf.split(t_data):\n",
    "        f_train, f_valid = f_data.loc[train_index], f_data.loc[test_index] #признаки\n",
    "        t_train, t_valid = t_data.loc[train_index], t_data.loc[test_index] #целевые признаки\n",
    "        f_train, t_train = downsample(f_train, t_train, 0.3)\n",
    "    \n",
    "        model.fit(f_train, t_train)\n",
    "        pr_valid = model.predict(f_valid)\n",
    "        f1score = f1_score(t_valid, pr_valid)\n",
    "        array.append(f1score)\n",
    "    \n",
    "    return sum(array)/len(array)\n",
    "\n",
    "f1_array=[]\n",
    "parameters=[]\n",
    "\n",
    "for depth in range(3,14):\n",
    "    for estimators in range(10,51,10):\n",
    "        f1score = rf_cross_validation(features_trainvalid, target_trainvalid, 5, depth, estimators)\n",
    "        f1_array.append(f1score)\n",
    "        parameters.append((depth, estimators))\n",
    "\n",
    "f1_final = max(f1_array)\n",
    "parameters_final = parameters[f1_array.index(max(f1_array))]\n",
    "        \n",
    "print(\"Для модели случайного леса с max_depth =\", parameters_final[0],\n",
    "     \"и n_estimators =\", parameters_final[1], \"значение f1-меры равно {:.2f}\".format(f1_final))"
   ]
  },
  {
   "cell_type": "markdown",
   "metadata": {},
   "source": [
    "Так как модель случайного леса в общем случае показывает лучшие результаты, чем модель дерева решений, можно попробовать подобрать лучшие параметры для модели случайного леса. Реализуем это с помощью функции rf_cross_validation, в которой обучающая выборка каждый раз обрабатывается даунсэмплингом, а параметры случайного леса max_depth и n_estimators перебираются в циклах. Лучшие результаты показывает модель с максимальной глубиной 8 и числом деревьев 40."
   ]
  },
  {
   "cell_type": "markdown",
   "metadata": {},
   "source": [
    "# 4. Тестирование модели"
   ]
  },
  {
   "cell_type": "code",
   "execution_count": 13,
   "metadata": {},
   "outputs": [
    {
     "name": "stdout",
     "output_type": "stream",
     "text": [
      "F1 равно 0.62 , AUC-ROC равно 0.87\n"
     ]
    },
    {
     "data": {
      "text/plain": [
       "[<matplotlib.lines.Line2D at 0x1400b4da048>]"
      ]
     },
     "execution_count": 13,
     "metadata": {},
     "output_type": "execute_result"
    },
    {
     "data": {
      "image/png": "[encoded data removed]",
      "text/plain": [
       "<Figure size 432x288 with 1 Axes>"
      ]
     },
     "metadata": {
      "needs_background": "light"
     },
     "output_type": "display_data"
    }
   ],
   "source": [
    "features_downsampled, target_downsampled = downsample(features_trainvalid, target_trainvalid, 0.3)\n",
    "\n",
    "model = RandomForestClassifier(random_state=12345, n_estimators=40, max_depth=8)\n",
    "model.fit(features_downsampled, target_downsampled)\n",
    "predicted_test = model.predict(features_test)\n",
    "probabilities_test = model.predict_proba(features_test)\n",
    "probabilities_one_test = probabilities_test[:, 1]\n",
    "print(\"F1 равно {:.2f}\".format(f1_score(target_test, predicted_test)),\n",
    "      \", AUC-ROC равно {:.2f}\".format(roc_auc_score(target_test, probabilities_one_test)))\n",
    "\n",
    "fpr, tpr, thresholds = roc_curve(target_test, probabilities_one_test)\n",
    "plt.figure()\n",
    "plt.plot(fpr, tpr)\n",
    "plt.xlim([0.0, 1.0])\n",
    "plt.ylim([0.0, 1.0])\n",
    "plt.xlabel('False Positive Rate')\n",
    "plt.ylabel('True Positive Rate')\n",
    "plt.title('ROC-кривая')\n",
    "plt.plot([0, 1], [0, 1], linestyle='--')"
   ]
  },
  {
   "cell_type": "markdown",
   "metadata": {},
   "source": [
    "На тестовой выборке получилось достичь и превысить заданное значение f1-меры. Отметим, что хотя значение AUC-ROC по сравнению с моделью дерева решений со сбалансированными классами изменилось не сильно (0.87 против 0.82 ранее), ROC-кривая стала более крутой, что показывает, что эта модель в большей степени подходит для прогноза."
   ]
  },
  {
   "cell_type": "markdown",
   "metadata": {},
   "source": [
    "## Вывод"
   ]
  },
  {
   "cell_type": "markdown",
   "metadata": {},
   "source": [
    "Проведено исследование различных способов борьбы с дисбалансом. Оптимальным для данной выборки является даунсэмплинг (использование 30% данных класса 0). Лучшие результаты показывает модель случайного леса с 40 деревьями и максимальной глубиной 8. Используя эту модель, на тестовой выборке получилось достичь значение f1-меры, равное 0.62."
   ]
  }
 ],
 "metadata": {
  "kernelspec": {
   "display_name": "Python 3",
   "language": "python",
   "name": "python3"
  },
  "language_info": {
   "codemirror_mode": {
    "name": "ipython",
    "version": 3
   },
   "file_extension": ".py",
   "mimetype": "text/x-python",
   "name": "python",
   "nbconvert_exporter": "python",
   "pygments_lexer": "ipython3",
   "version": "3.7.6"
  }
 },
 "nbformat": 4,
 "nbformat_minor": 2
}
